{
 "cells": [
  {
   "cell_type": "markdown",
   "metadata": {},
   "source": [
    "## POS tagging using modified Viterbi"
   ]
  },
  {
   "cell_type": "markdown",
   "metadata": {},
   "source": [
    "### Data Preparation"
   ]
  },
  {
   "cell_type": "code",
   "execution_count": 236,
   "metadata": {},
   "outputs": [],
   "source": [
    "#Importing libraries\n",
    "import nltk, re, pprint\n",
    "import numpy as np\n",
    "import pandas as pd\n",
    "import requests\n",
    "import matplotlib.pyplot as plt\n",
    "import seaborn as sns\n",
    "import pprint, time\n",
    "import random\n",
    "from sklearn.model_selection import train_test_split\n",
    "from nltk.tokenize import word_tokenize"
   ]
  },
  {
   "cell_type": "code",
   "execution_count": 237,
   "metadata": {},
   "outputs": [],
   "source": [
    "# reading the Treebank tagged sentences\n",
    "nltk_data = list(nltk.corpus.treebank.tagged_sents(tagset='universal'))"
   ]
  },
  {
   "cell_type": "code",
   "execution_count": 238,
   "metadata": {},
   "outputs": [
    {
     "name": "stdout",
     "output_type": "stream",
     "text": [
      "[[('Pierre', 'NOUN'), ('Vinken', 'NOUN'), (',', '.'), ('61', 'NUM'), ('years', 'NOUN'), ('old', 'ADJ'), (',', '.'), ('will', 'VERB'), ('join', 'VERB'), ('the', 'DET'), ('board', 'NOUN'), ('as', 'ADP'), ('a', 'DET'), ('nonexecutive', 'ADJ'), ('director', 'NOUN'), ('Nov.', 'NOUN'), ('29', 'NUM'), ('.', '.')], [('Mr.', 'NOUN'), ('Vinken', 'NOUN'), ('is', 'VERB'), ('chairman', 'NOUN'), ('of', 'ADP'), ('Elsevier', 'NOUN'), ('N.V.', 'NOUN'), (',', '.'), ('the', 'DET'), ('Dutch', 'NOUN'), ('publishing', 'VERB'), ('group', 'NOUN'), ('.', '.')], [('Rudolph', 'NOUN'), ('Agnew', 'NOUN'), (',', '.'), ('55', 'NUM'), ('years', 'NOUN'), ('old', 'ADJ'), ('and', 'CONJ'), ('former', 'ADJ'), ('chairman', 'NOUN'), ('of', 'ADP'), ('Consolidated', 'NOUN'), ('Gold', 'NOUN'), ('Fields', 'NOUN'), ('PLC', 'NOUN'), (',', '.'), ('was', 'VERB'), ('named', 'VERB'), ('*-1', 'X'), ('a', 'DET'), ('nonexecutive', 'ADJ'), ('director', 'NOUN'), ('of', 'ADP'), ('this', 'DET'), ('British', 'ADJ'), ('industrial', 'ADJ'), ('conglomerate', 'NOUN'), ('.', '.')], [('A', 'DET'), ('form', 'NOUN'), ('of', 'ADP'), ('asbestos', 'NOUN'), ('once', 'ADV'), ('used', 'VERB'), ('*', 'X'), ('*', 'X'), ('to', 'PRT'), ('make', 'VERB'), ('Kent', 'NOUN'), ('cigarette', 'NOUN'), ('filters', 'NOUN'), ('has', 'VERB'), ('caused', 'VERB'), ('a', 'DET'), ('high', 'ADJ'), ('percentage', 'NOUN'), ('of', 'ADP'), ('cancer', 'NOUN'), ('deaths', 'NOUN'), ('among', 'ADP'), ('a', 'DET'), ('group', 'NOUN'), ('of', 'ADP'), ('workers', 'NOUN'), ('exposed', 'VERB'), ('*', 'X'), ('to', 'PRT'), ('it', 'PRON'), ('more', 'ADV'), ('than', 'ADP'), ('30', 'NUM'), ('years', 'NOUN'), ('ago', 'ADP'), (',', '.'), ('researchers', 'NOUN'), ('reported', 'VERB'), ('0', 'X'), ('*T*-1', 'X'), ('.', '.')], [('The', 'DET'), ('asbestos', 'NOUN'), ('fiber', 'NOUN'), (',', '.'), ('crocidolite', 'NOUN'), (',', '.'), ('is', 'VERB'), ('unusually', 'ADV'), ('resilient', 'ADJ'), ('once', 'ADP'), ('it', 'PRON'), ('enters', 'VERB'), ('the', 'DET'), ('lungs', 'NOUN'), (',', '.'), ('with', 'ADP'), ('even', 'ADV'), ('brief', 'ADJ'), ('exposures', 'NOUN'), ('to', 'PRT'), ('it', 'PRON'), ('causing', 'VERB'), ('symptoms', 'NOUN'), ('that', 'DET'), ('*T*-1', 'X'), ('show', 'VERB'), ('up', 'PRT'), ('decades', 'NOUN'), ('later', 'ADJ'), (',', '.'), ('researchers', 'NOUN'), ('said', 'VERB'), ('0', 'X'), ('*T*-2', 'X'), ('.', '.')], [('Lorillard', 'NOUN'), ('Inc.', 'NOUN'), (',', '.'), ('the', 'DET'), ('unit', 'NOUN'), ('of', 'ADP'), ('New', 'ADJ'), ('York-based', 'ADJ'), ('Loews', 'NOUN'), ('Corp.', 'NOUN'), ('that', 'DET'), ('*T*-2', 'X'), ('makes', 'VERB'), ('Kent', 'NOUN'), ('cigarettes', 'NOUN'), (',', '.'), ('stopped', 'VERB'), ('using', 'VERB'), ('crocidolite', 'NOUN'), ('in', 'ADP'), ('its', 'PRON'), ('Micronite', 'NOUN'), ('cigarette', 'NOUN'), ('filters', 'NOUN'), ('in', 'ADP'), ('1956', 'NUM'), ('.', '.')], [('Although', 'ADP'), ('preliminary', 'ADJ'), ('findings', 'NOUN'), ('were', 'VERB'), ('reported', 'VERB'), ('*-2', 'X'), ('more', 'ADV'), ('than', 'ADP'), ('a', 'DET'), ('year', 'NOUN'), ('ago', 'ADP'), (',', '.'), ('the', 'DET'), ('latest', 'ADJ'), ('results', 'NOUN'), ('appear', 'VERB'), ('in', 'ADP'), ('today', 'NOUN'), (\"'s\", 'PRT'), ('New', 'NOUN'), ('England', 'NOUN'), ('Journal', 'NOUN'), ('of', 'ADP'), ('Medicine', 'NOUN'), (',', '.'), ('a', 'DET'), ('forum', 'NOUN'), ('likely', 'ADJ'), ('*', 'X'), ('to', 'PRT'), ('bring', 'VERB'), ('new', 'ADJ'), ('attention', 'NOUN'), ('to', 'PRT'), ('the', 'DET'), ('problem', 'NOUN'), ('.', '.')], [('A', 'DET'), ('Lorillard', 'NOUN'), ('spokewoman', 'NOUN'), ('said', 'VERB'), (',', '.'), ('``', '.'), ('This', 'DET'), ('is', 'VERB'), ('an', 'DET'), ('old', 'ADJ'), ('story', 'NOUN'), ('.', '.')], [('We', 'PRON'), (\"'re\", 'VERB'), ('talking', 'VERB'), ('about', 'ADP'), ('years', 'NOUN'), ('ago', 'ADP'), ('before', 'ADP'), ('anyone', 'NOUN'), ('heard', 'VERB'), ('of', 'ADP'), ('asbestos', 'NOUN'), ('having', 'VERB'), ('any', 'DET'), ('questionable', 'ADJ'), ('properties', 'NOUN'), ('.', '.')], [('There', 'DET'), ('is', 'VERB'), ('no', 'DET'), ('asbestos', 'NOUN'), ('in', 'ADP'), ('our', 'PRON'), ('products', 'NOUN'), ('now', 'ADV'), ('.', '.'), (\"''\", '.')], [('Neither', 'DET'), ('Lorillard', 'NOUN'), ('nor', 'CONJ'), ('the', 'DET'), ('researchers', 'NOUN'), ('who', 'PRON'), ('*T*-3', 'X'), ('studied', 'VERB'), ('the', 'DET'), ('workers', 'NOUN'), ('were', 'VERB'), ('aware', 'ADJ'), ('of', 'ADP'), ('any', 'DET'), ('research', 'NOUN'), ('on', 'ADP'), ('smokers', 'NOUN'), ('of', 'ADP'), ('the', 'DET'), ('Kent', 'NOUN'), ('cigarettes', 'NOUN'), ('.', '.')], [('``', '.'), ('We', 'PRON'), ('have', 'VERB'), ('no', 'DET'), ('useful', 'ADJ'), ('information', 'NOUN'), ('on', 'ADP'), ('whether', 'ADP'), ('users', 'NOUN'), ('are', 'VERB'), ('at', 'ADP'), ('risk', 'NOUN'), (',', '.'), (\"''\", '.'), ('said', 'VERB'), ('*T*-1', 'X'), ('James', 'NOUN'), ('A.', 'NOUN'), ('Talcott', 'NOUN'), ('of', 'ADP'), ('Boston', 'NOUN'), (\"'s\", 'PRT'), ('Dana-Farber', 'NOUN'), ('Cancer', 'NOUN'), ('Institute', 'NOUN'), ('.', '.')], [('Dr.', 'NOUN'), ('Talcott', 'NOUN'), ('led', 'VERB'), ('a', 'DET'), ('team', 'NOUN'), ('of', 'ADP'), ('researchers', 'NOUN'), ('from', 'ADP'), ('the', 'DET'), ('National', 'NOUN'), ('Cancer', 'NOUN'), ('Institute', 'NOUN'), ('and', 'CONJ'), ('the', 'DET'), ('medical', 'ADJ'), ('schools', 'NOUN'), ('of', 'ADP'), ('Harvard', 'NOUN'), ('University', 'NOUN'), ('and', 'CONJ'), ('Boston', 'NOUN'), ('University', 'NOUN'), ('.', '.')], [('The', 'DET'), ('Lorillard', 'NOUN'), ('spokeswoman', 'NOUN'), ('said', 'VERB'), ('0', 'X'), ('asbestos', 'NOUN'), ('was', 'VERB'), ('used', 'VERB'), ('*-1', 'X'), ('in', 'ADP'), ('``', '.'), ('very', 'ADV'), ('modest', 'ADJ'), ('amounts', 'NOUN'), (\"''\", '.'), ('in', 'ADP'), ('*', 'X'), ('making', 'VERB'), ('paper', 'NOUN'), ('for', 'ADP'), ('the', 'DET'), ('filters', 'NOUN'), ('in', 'ADP'), ('the', 'DET'), ('early', 'ADJ'), ('1950s', 'NUM'), ('and', 'CONJ'), ('replaced', 'VERB'), ('*-1', 'X'), ('with', 'ADP'), ('a', 'DET'), ('different', 'ADJ'), ('type', 'NOUN'), ('of', 'ADP'), ('filter', 'NOUN'), ('in', 'ADP'), ('1956', 'NUM'), ('.', '.')], [('From', 'ADP'), ('1953', 'NUM'), ('to', 'PRT'), ('1955', 'NUM'), (',', '.'), ('9.8', 'NUM'), ('billion', 'NUM'), ('Kent', 'NOUN'), ('cigarettes', 'NOUN'), ('with', 'ADP'), ('the', 'DET'), ('filters', 'NOUN'), ('were', 'VERB'), ('sold', 'VERB'), ('*-3', 'X'), (',', '.'), ('the', 'DET'), ('company', 'NOUN'), ('said', 'VERB'), ('0', 'X'), ('*T*-1', 'X'), ('.', '.')], [('Among', 'ADP'), ('33', 'NUM'), ('men', 'NOUN'), ('who', 'PRON'), ('*T*-4', 'X'), ('worked', 'VERB'), ('closely', 'ADV'), ('with', 'ADP'), ('the', 'DET'), ('substance', 'NOUN'), (',', '.'), ('28', 'NUM'), ('*ICH*-1', 'X'), ('have', 'VERB'), ('died', 'VERB'), ('--', '.'), ('more', 'ADJ'), ('than', 'ADP'), ('three', 'NUM'), ('times', 'NOUN'), ('the', 'DET'), ('expected', 'VERB'), ('number', 'NOUN'), ('.', '.')], [('Four', 'NUM'), ('of', 'ADP'), ('the', 'DET'), ('five', 'NUM'), ('surviving', 'VERB'), ('workers', 'NOUN'), ('have', 'VERB'), ('asbestos-related', 'ADJ'), ('diseases', 'NOUN'), (',', '.'), ('including', 'VERB'), ('three', 'NUM'), ('with', 'ADP'), ('recently', 'ADV'), ('diagnosed', 'VERB'), ('cancer', 'NOUN'), ('.', '.')], [('The', 'DET'), ('total', 'NOUN'), ('of', 'ADP'), ('18', 'NUM'), ('deaths', 'NOUN'), ('from', 'ADP'), ('malignant', 'ADJ'), ('mesothelioma', 'NOUN'), (',', '.'), ('lung', 'NOUN'), ('cancer', 'NOUN'), ('and', 'CONJ'), ('asbestosis', 'NOUN'), ('was', 'VERB'), ('far', 'ADV'), ('higher', 'ADJ'), ('than', 'ADP'), ('*', 'X'), ('expected', 'VERB'), ('*?*', 'X'), (',', '.'), ('the', 'DET'), ('researchers', 'NOUN'), ('said', 'VERB'), ('0', 'X'), ('*T*-1', 'X'), ('.', '.')], [('``', '.'), ('The', 'DET'), ('morbidity', 'NOUN'), ('rate', 'NOUN'), ('is', 'VERB'), ('a', 'DET'), ('striking', 'ADJ'), ('finding', 'NOUN'), ('among', 'ADP'), ('those', 'DET'), ('of', 'ADP'), ('us', 'PRON'), ('who', 'PRON'), ('*T*-5', 'X'), ('study', 'VERB'), ('asbestos-related', 'ADJ'), ('diseases', 'NOUN'), (',', '.'), (\"''\", '.'), ('said', 'VERB'), ('*T*-1', 'X'), ('Dr.', 'NOUN'), ('Talcott', 'NOUN'), ('.', '.')], [('The', 'DET'), ('percentage', 'NOUN'), ('of', 'ADP'), ('lung', 'NOUN'), ('cancer', 'NOUN'), ('deaths', 'NOUN'), ('among', 'ADP'), ('the', 'DET'), ('workers', 'NOUN'), ('at', 'ADP'), ('the', 'DET'), ('West', 'NOUN'), ('Groton', 'NOUN'), (',', '.'), ('Mass.', 'NOUN'), (',', '.'), ('paper', 'NOUN'), ('factory', 'NOUN'), ('appears', 'VERB'), ('*-1', 'X'), ('to', 'PRT'), ('be', 'VERB'), ('the', 'DET'), ('highest', 'ADJ'), ('for', 'ADP'), ('any', 'DET'), ('asbestos', 'NOUN'), ('workers', 'NOUN'), ('studied', 'VERB'), ('*', 'X'), ('in', 'ADP'), ('Western', 'ADJ'), ('industrialized', 'VERB'), ('countries', 'NOUN'), (',', '.'), ('he', 'PRON'), ('said', 'VERB'), ('0', 'X'), ('*T*-2', 'X'), ('.', '.')], [('The', 'DET'), ('plant', 'NOUN'), (',', '.'), ('which', 'DET'), ('*T*-1', 'X'), ('is', 'VERB'), ('owned', 'VERB'), ('*-4', 'X'), ('by', 'ADP'), ('Hollingsworth', 'NOUN'), ('&', 'CONJ'), ('Vose', 'NOUN'), ('Co.', 'NOUN'), (',', '.'), ('was', 'VERB'), ('under', 'ADP'), ('contract', 'NOUN'), ('*ICH*-2', 'X'), ('with', 'ADP'), ('Lorillard', 'NOUN'), ('*', 'X'), ('to', 'PRT'), ('make', 'VERB'), ('the', 'DET'), ('cigarette', 'NOUN'), ('filters', 'NOUN'), ('.', '.')], [('The', 'DET'), ('finding', 'NOUN'), ('probably', 'ADV'), ('will', 'VERB'), ('support', 'VERB'), ('those', 'DET'), ('who', 'PRON'), ('*T*-6', 'X'), ('argue', 'VERB'), ('that', 'ADP'), ('the', 'DET'), ('U.S.', 'NOUN'), ('should', 'VERB'), ('regulate', 'VERB'), ('the', 'DET'), ('class', 'NOUN'), ('of', 'ADP'), ('asbestos', 'NOUN'), ('including', 'VERB'), ('crocidolite', 'NOUN'), ('more', 'ADV'), ('stringently', 'ADV'), ('than', 'ADP'), ('the', 'DET'), ('common', 'ADJ'), ('kind', 'NOUN'), ('of', 'ADP'), ('asbestos', 'NOUN'), (',', '.'), ('chrysotile', 'NOUN'), (',', '.'), ('found', 'VERB'), ('*', 'X'), ('in', 'ADP'), ('most', 'ADJ'), ('schools', 'NOUN'), ('and', 'CONJ'), ('other', 'ADJ'), ('buildings', 'NOUN'), (',', '.'), ('Dr.', 'NOUN'), ('Talcott', 'NOUN'), ('said', 'VERB'), ('0', 'X'), ('*T*-1', 'X'), ('.', '.')], [('The', 'DET'), ('U.S.', 'NOUN'), ('is', 'VERB'), ('one', 'NUM'), ('of', 'ADP'), ('the', 'DET'), ('few', 'ADJ'), ('industrialized', 'VERB'), ('nations', 'NOUN'), ('that', 'DET'), ('*T*-7', 'X'), ('does', 'VERB'), (\"n't\", 'ADV'), ('have', 'VERB'), ('a', 'DET'), ('higher', 'ADJ'), ('standard', 'NOUN'), ('of', 'ADP'), ('regulation', 'NOUN'), ('for', 'ADP'), ('the', 'DET'), ('smooth', 'ADJ'), (',', '.'), ('needle-like', 'ADJ'), ('fibers', 'NOUN'), ('such', 'ADJ'), ('as', 'ADP'), ('crocidolite', 'NOUN'), ('that', 'DET'), ('*T*-1', 'X'), ('are', 'VERB'), ('classified', 'VERB'), ('*-5', 'X'), ('as', 'ADP'), ('amphobiles', 'NOUN'), (',', '.'), ('according', 'VERB'), ('to', 'PRT'), ('Brooke', 'NOUN'), ('T.', 'NOUN'), ('Mossman', 'NOUN'), (',', '.'), ('a', 'DET'), ('professor', 'NOUN'), ('of', 'ADP'), ('pathlogy', 'NOUN'), ('at', 'ADP'), ('the', 'DET'), ('University', 'NOUN'), ('of', 'ADP'), ('Vermont', 'NOUN'), ('College', 'NOUN'), ('of', 'ADP'), ('Medicine', 'NOUN'), ('.', '.')], [('More', 'ADV'), ('common', 'ADJ'), ('chrysotile', 'NOUN'), ('fibers', 'NOUN'), ('are', 'VERB'), ('curly', 'ADJ'), ('and', 'CONJ'), ('are', 'VERB'), ('more', 'ADV'), ('easily', 'ADV'), ('rejected', 'VERB'), ('*-1', 'X'), ('by', 'ADP'), ('the', 'DET'), ('body', 'NOUN'), (',', '.'), ('Dr.', 'NOUN'), ('Mossman', 'NOUN'), ('explained', 'VERB'), ('0', 'X'), ('*T*-2', 'X'), ('.', '.')], [('In', 'ADP'), ('July', 'NOUN'), (',', '.'), ('the', 'DET'), ('Environmental', 'NOUN'), ('Protection', 'NOUN'), ('Agency', 'NOUN'), ('imposed', 'VERB'), ('a', 'DET'), ('gradual', 'ADJ'), ('ban', 'NOUN'), ('on', 'ADP'), ('virtually', 'ADV'), ('all', 'DET'), ('uses', 'NOUN'), ('of', 'ADP'), ('asbestos', 'NOUN'), ('.', '.')], [('By', 'ADP'), ('1997', 'NUM'), (',', '.'), ('almost', 'ADV'), ('all', 'DET'), ('remaining', 'VERB'), ('uses', 'NOUN'), ('of', 'ADP'), ('cancer-causing', 'ADJ'), ('asbestos', 'NOUN'), ('will', 'VERB'), ('be', 'VERB'), ('outlawed', 'VERB'), ('*-6', 'X'), ('.', '.')], [('About', 'ADP'), ('160', 'NUM'), ('workers', 'NOUN'), ('at', 'ADP'), ('a', 'DET'), ('factory', 'NOUN'), ('that', 'DET'), ('*T*-8', 'X'), ('made', 'VERB'), ('paper', 'NOUN'), ('for', 'ADP'), ('the', 'DET'), ('Kent', 'NOUN'), ('filters', 'NOUN'), ('were', 'VERB'), ('exposed', 'VERB'), ('*-7', 'X'), ('to', 'PRT'), ('asbestos', 'NOUN'), ('in', 'ADP'), ('the', 'DET'), ('1950s', 'NUM'), ('.', '.')], [('Areas', 'NOUN'), ('of', 'ADP'), ('the', 'DET'), ('factory', 'NOUN'), ('*ICH*-2', 'X'), ('were', 'VERB'), ('particularly', 'ADV'), ('dusty', 'ADJ'), ('where', 'ADV'), ('the', 'DET'), ('crocidolite', 'NOUN'), ('was', 'VERB'), ('used', 'VERB'), ('*-8', 'X'), ('*T*-1', 'X'), ('.', '.')], [('Workers', 'NOUN'), ('dumped', 'VERB'), ('large', 'ADJ'), ('burlap', 'NOUN'), ('sacks', 'NOUN'), ('of', 'ADP'), ('the', 'DET'), ('imported', 'VERB'), ('material', 'NOUN'), ('into', 'ADP'), ('a', 'DET'), ('huge', 'ADJ'), ('bin', 'NOUN'), (',', '.'), ('poured', 'VERB'), ('in', 'PRT'), ('cotton', 'NOUN'), ('and', 'CONJ'), ('acetate', 'NOUN'), ('fibers', 'NOUN'), ('and', 'CONJ'), ('mechanically', 'ADV'), ('mixed', 'VERB'), ('the', 'DET'), ('dry', 'ADJ'), ('fibers', 'NOUN'), ('in', 'ADP'), ('a', 'DET'), ('process', 'NOUN'), ('used', 'VERB'), ('*', 'X'), ('*', 'X'), ('to', 'PRT'), ('make', 'VERB'), ('filters', 'NOUN'), ('.', '.')], [('Workers', 'NOUN'), ('described', 'VERB'), ('``', '.'), ('clouds', 'NOUN'), ('of', 'ADP'), ('blue', 'ADJ'), ('dust', 'NOUN'), (\"''\", '.'), ('that', 'DET'), ('*T*-1', 'X'), ('hung', 'VERB'), ('over', 'ADP'), ('parts', 'NOUN'), ('of', 'ADP'), ('the', 'DET'), ('factory', 'NOUN'), (',', '.'), ('even', 'ADV'), ('though', 'ADP'), ('exhaust', 'NOUN'), ('fans', 'NOUN'), ('ventilated', 'VERB'), ('the', 'DET'), ('area', 'NOUN'), ('.', '.')], [('``', '.'), ('There', 'DET'), (\"'s\", 'VERB'), ('no', 'DET'), ('question', 'NOUN'), ('that', 'ADP'), ('some', 'DET'), ('of', 'ADP'), ('those', 'DET'), ('workers', 'NOUN'), ('and', 'CONJ'), ('managers', 'NOUN'), ('contracted', 'VERB'), ('asbestos-related', 'ADJ'), ('diseases', 'NOUN'), (',', '.'), (\"''\", '.'), ('said', 'VERB'), ('*T*-1', 'X'), ('Darrell', 'NOUN'), ('Phillips', 'NOUN'), (',', '.'), ('vice', 'NOUN'), ('president', 'NOUN'), ('of', 'ADP'), ('human', 'ADJ'), ('resources', 'NOUN'), ('for', 'ADP'), ('Hollingsworth', 'NOUN'), ('&', 'CONJ'), ('Vose', 'NOUN'), ('.', '.')], [('``', '.'), ('But', 'CONJ'), ('you', 'PRON'), ('have', 'VERB'), ('*-1', 'X'), ('to', 'PRT'), ('recognize', 'VERB'), ('that', 'ADP'), ('these', 'DET'), ('events', 'NOUN'), ('took', 'VERB'), ('place', 'NOUN'), ('35', 'NUM'), ('years', 'NOUN'), ('ago', 'ADP'), ('.', '.')], [('It', 'PRON'), ('has', 'VERB'), ('no', 'DET'), ('bearing', 'NOUN'), ('on', 'ADP'), ('our', 'PRON'), ('work', 'NOUN'), ('force', 'NOUN'), ('today', 'NOUN'), ('.', '.')], [('Yields', 'NOUN'), ('on', 'ADP'), ('money-market', 'ADJ'), ('mutual', 'ADJ'), ('funds', 'NOUN'), ('continued', 'VERB'), ('*-1', 'X'), ('to', 'PRT'), ('slide', 'VERB'), (',', '.'), ('amid', 'ADP'), ('signs', 'NOUN'), ('that', 'ADP'), ('portfolio', 'NOUN'), ('managers', 'NOUN'), ('expect', 'VERB'), ('further', 'ADJ'), ('declines', 'NOUN'), ('in', 'ADP'), ('interest', 'NOUN'), ('rates', 'NOUN'), ('.', '.')], [('The', 'DET'), ('average', 'ADJ'), ('seven-day', 'ADJ'), ('compound', 'NOUN'), ('yield', 'NOUN'), ('of', 'ADP'), ('the', 'DET'), ('400', 'NUM'), ('taxable', 'ADJ'), ('funds', 'NOUN'), ('tracked', 'VERB'), ('*', 'X'), ('by', 'ADP'), ('IBC', 'NOUN'), (\"'s\", 'PRT'), ('Money', 'NOUN'), ('Fund', 'NOUN'), ('Report', 'NOUN'), ('eased', 'VERB'), ('a', 'DET'), ('fraction', 'NOUN'), ('of', 'ADP'), ('a', 'DET'), ('percentage', 'NOUN'), ('point', 'NOUN'), ('to', 'PRT'), ('8.45', 'NUM'), ('%', 'NOUN'), ('from', 'ADP'), ('8.47', 'NUM'), ('%', 'NOUN'), ('for', 'ADP'), ('the', 'DET'), ('week', 'NOUN'), ('ended', 'VERB'), ('Tuesday', 'NOUN'), ('.', '.')], [('Compound', 'NOUN'), ('yields', 'NOUN'), ('assume', 'VERB'), ('reinvestment', 'NOUN'), ('of', 'ADP'), ('dividends', 'NOUN'), ('and', 'CONJ'), ('that', 'ADP'), ('the', 'DET'), ('current', 'ADJ'), ('yield', 'NOUN'), ('continues', 'VERB'), ('for', 'ADP'), ('a', 'DET'), ('year', 'NOUN'), ('.', '.')], [('Average', 'ADJ'), ('maturity', 'NOUN'), ('of', 'ADP'), ('the', 'DET'), ('funds', 'NOUN'), (\"'\", 'PRT'), ('investments', 'NOUN'), ('lengthened', 'VERB'), ('by', 'ADP'), ('a', 'DET'), ('day', 'NOUN'), ('to', 'PRT'), ('41', 'NUM'), ('days', 'NOUN'), (',', '.'), ('the', 'DET'), ('longest', 'ADJ'), ('since', 'ADP'), ('early', 'ADJ'), ('August', 'NOUN'), (',', '.'), ('according', 'VERB'), ('to', 'PRT'), ('Donoghue', 'NOUN'), (\"'s\", 'PRT'), ('.', '.')], [('Longer', 'ADJ'), ('maturities', 'NOUN'), ('are', 'VERB'), ('thought', 'VERB'), ('*-1', 'X'), ('to', 'PRT'), ('indicate', 'VERB'), ('declining', 'VERB'), ('interest', 'NOUN'), ('rates', 'NOUN'), ('because', 'ADP'), ('they', 'PRON'), ('permit', 'VERB'), ('portfolio', 'NOUN'), ('managers', 'NOUN'), ('to', 'PRT'), ('retain', 'VERB'), ('relatively', 'ADV'), ('higher', 'ADJ'), ('rates', 'NOUN'), ('for', 'ADP'), ('a', 'DET'), ('longer', 'ADJ'), ('period', 'NOUN'), ('.', '.')], [('Shorter', 'ADJ'), ('maturities', 'NOUN'), ('are', 'VERB'), ('considered', 'VERB'), ('*-9', 'X'), ('a', 'DET'), ('sign', 'NOUN'), ('of', 'ADP'), ('rising', 'VERB'), ('rates', 'NOUN'), ('because', 'ADP'), ('portfolio', 'NOUN'), ('managers', 'NOUN'), ('can', 'VERB'), ('capture', 'VERB'), ('higher', 'ADJ'), ('rates', 'NOUN'), ('sooner', 'ADV'), ('.', '.')], [('The', 'DET'), ('average', 'ADJ'), ('maturity', 'NOUN'), ('for', 'ADP'), ('funds', 'NOUN'), ('open', 'ADJ'), ('only', 'ADV'), ('to', 'PRT'), ('institutions', 'NOUN'), (',', '.'), ('considered', 'VERB'), ('by', 'ADP'), ('some', 'DET'), ('*', 'X'), ('to', 'PRT'), ('be', 'VERB'), ('a', 'DET'), ('stronger', 'ADJ'), ('indicator', 'NOUN'), ('because', 'ADP'), ('those', 'DET'), ('managers', 'NOUN'), ('watch', 'VERB'), ('the', 'DET'), ('market', 'NOUN'), ('closely', 'ADV'), (',', '.'), ('reached', 'VERB'), ('a', 'DET'), ('high', 'ADJ'), ('point', 'NOUN'), ('for', 'ADP'), ('the', 'DET'), ('year', 'NOUN'), ('--', '.'), ('33', 'NUM'), ('days', 'NOUN'), ('.', '.')]]\n"
     ]
    }
   ],
   "source": [
    "print(nltk_data[:40])"
   ]
  },
  {
   "cell_type": "code",
   "execution_count": 239,
   "metadata": {},
   "outputs": [
    {
     "name": "stdout",
     "output_type": "stream",
     "text": [
      "3718\n",
      "196\n",
      "[[('Fundamentalists', 'NOUN'), ('Jihad', 'NOUN')], [('Dallas', 'NOUN'), ('District', 'NOUN'), ('Judge', 'NOUN'), ('Jack', 'NOUN'), ('Hampton', 'NOUN'), ('had', 'VERB'), ('sparked', 'VERB'), ('calls', 'NOUN'), ('for', 'ADP'), ('a', 'DET'), ('judicial', 'ADJ'), ('inquiry', 'NOUN'), ('with', 'ADP'), ('his', 'PRON'), ('remarks', 'NOUN'), ('to', 'PRT'), ('the', 'DET'), ('press', 'NOUN'), ('last', 'ADJ'), ('December', 'NOUN'), (',', '.'), ('two', 'NUM'), ('weeks', 'NOUN'), ('after', 'ADP'), ('*-1', 'X'), ('sentencing', 'VERB'), ('an', 'DET'), ('18-year-old', 'ADJ'), ('defendant', 'NOUN'), ('to', 'PRT'), ('30', 'NUM'), ('years', 'NOUN'), ('in', 'ADP'), ('state', 'NOUN'), ('prison', 'NOUN'), ('for', 'ADP'), ('*-2', 'X'), ('killing', 'VERB'), ('two', 'NUM'), ('homosexual', 'ADJ'), ('men', 'NOUN'), ('in', 'ADP'), ('a', 'DET'), ('city', 'NOUN'), ('park', 'NOUN'), ('.', '.')], [('The', 'DET'), ('minimum', 'ADJ'), ('unit', 'NOUN'), ('is', 'VERB'), ('$', '.'), ('100,000', 'NUM'), ('*U*', 'X'), ('.', '.')], [('Mr.', 'NOUN'), ('McGovern', 'NOUN'), (',', '.'), ('63', 'NUM'), (',', '.'), ('had', 'VERB'), ('been', 'VERB'), ('under', 'ADP'), ('intense', 'ADJ'), ('pressure', 'NOUN'), ('*ICH*-1', 'X'), ('from', 'ADP'), ('the', 'DET'), ('board', 'NOUN'), ('*', 'X'), ('to', 'PRT'), ('boost', 'VERB'), ('Campbell', 'NOUN'), (\"'s\", 'PRT'), ('mediocre', 'ADJ'), ('performance', 'NOUN'), ('to', 'PRT'), ('the', 'DET'), ('level', 'NOUN'), ('of', 'ADP'), ('other', 'ADJ'), ('food', 'NOUN'), ('companies', 'NOUN'), ('.', '.')], [('Yesterday', 'NOUN'), (',', '.'), ('these', 'DET'), ('stocks', 'NOUN'), ('rose', 'VERB'), ('by', 'ADP'), ('170,262', 'NUM'), ('ounces', 'NOUN'), ('to', 'PRT'), ('a', 'DET'), ('record', 'NOUN'), ('of', 'ADP'), ('226,570,380', 'NUM'), ('ounces', 'NOUN'), (',', '.'), ('according', 'VERB'), ('to', 'PRT'), ('an', 'DET'), ('exchange', 'NOUN'), ('spokesman', 'NOUN'), ('.', '.')], [('J.', 'NOUN'), ('Landis', 'NOUN'), ('Martin', 'NOUN'), (',', '.'), ('NL', 'NOUN'), ('president', 'NOUN'), ('and', 'CONJ'), ('chief', 'ADJ'), ('executive', 'NOUN'), ('officer', 'NOUN'), (',', '.'), ('said', 'VERB'), ('0', 'X'), ('NL', 'NOUN'), ('and', 'CONJ'), ('Mr.', 'NOUN'), ('Simmons', 'NOUN'), ('cut', 'VERB'), ('the', 'DET'), ('price', 'NOUN'), ('*ICH*-2', 'X'), ('0', 'X'), ('they', 'PRON'), ('were', 'VERB'), ('proposing', 'VERB'), ('*T*-1', 'X'), ('for', 'ADP'), ('Georgia', 'NOUN'), ('Gulf', 'NOUN'), ('because', 'ADP'), ('they', 'PRON'), ('initially', 'ADV'), ('planned', 'VERB'), ('a', 'DET'), ('transaction', 'NOUN'), ('that', 'DET'), ('*T*-180', 'X'), ('included', 'VERB'), ('about', 'ADV'), ('$', '.'), ('250', 'NUM'), ('million', 'NUM'), ('*U*', 'X'), ('in', 'ADP'), ('equity', 'NOUN'), ('and', 'CONJ'), ('a', 'DET'), ('substantial', 'ADJ'), ('amount', 'NOUN'), ('of', 'ADP'), ('high-yield', 'ADJ'), ('subordinated', 'VERB'), ('debt', 'NOUN'), ('.', '.')], [('Virtually', 'ADV'), ('word', 'NOUN'), ('for', 'ADP'), ('word', 'NOUN'), (',', '.'), ('the', 'DET'), ('notes', 'NOUN'), ('matched', 'VERB'), ('questions', 'NOUN'), ('and', 'CONJ'), ('answers', 'NOUN'), ('on', 'ADP'), ('the', 'DET'), ('social-studies', 'NOUN'), ('section', 'NOUN'), ('of', 'ADP'), ('the', 'DET'), ('test', 'NOUN'), ('0', 'X'), ('the', 'DET'), ('student', 'NOUN'), ('was', 'VERB'), ('taking', 'VERB'), ('*T*-1', 'X'), ('.', '.')], [('The', 'DET'), ('municipalities', 'NOUN'), ('said', 'VERB'), ('0', 'X'), ('they', 'PRON'), ('have', 'VERB'), (\"n't\", 'ADV'), ('decided', 'VERB'), ('whether', 'ADP'), ('*-1', 'X'), ('to', 'PRT'), ('try', 'VERB'), ('*-2', 'X'), ('to', 'PRT'), ('force', 'VERB'), ('the', 'DET'), ('company', 'NOUN'), ('to', 'PRT'), ('go', 'VERB'), ('through', 'PRT'), ('with', 'ADP'), ('the', 'DET'), ('contracts', 'NOUN'), ('.', '.')], [('The', 'DET'), ('U.S.', 'NOUN'), ('Chamber', 'NOUN'), ('of', 'ADP'), ('Commerce', 'NOUN'), (',', '.'), ('*-1', 'X'), ('still', 'ADV'), ('opposed', 'VERB'), ('to', 'PRT'), ('any', 'DET'), ('mininum-wage', 'NOUN'), ('increase', 'NOUN'), (',', '.'), ('said', 'VERB'), ('0', 'X'), ('the', 'DET'), ('compromise', 'NOUN'), ('plan', 'NOUN'), ('*', 'X'), ('to', 'PRT'), ('lift', 'VERB'), ('the', 'DET'), ('wage', 'NOUN'), ('floor', 'NOUN'), ('27', 'NUM'), ('%', 'NOUN'), ('in', 'ADP'), ('two', 'NUM'), ('stages', 'NOUN'), ('between', 'ADP'), ('April', 'NOUN'), ('1990', 'NUM'), ('and', 'CONJ'), ('April', 'NOUN'), ('1991', 'NUM'), ('``', '.'), ('will', 'VERB'), ('be', 'VERB'), ('impossible', 'ADJ'), ('for', 'ADP'), ('many', 'ADJ'), ('employers', 'NOUN'), ('to', 'PRT'), ('accommodate', 'VERB'), ('and', 'CONJ'), ('will', 'VERB'), ('result', 'VERB'), ('in', 'ADP'), ('the', 'DET'), ('elimination', 'NOUN'), ('of', 'ADP'), ('jobs', 'NOUN'), ('for', 'ADP'), ('American', 'ADJ'), ('workers', 'NOUN'), ('and', 'CONJ'), ('higher', 'ADJ'), ('prices', 'NOUN'), ('for', 'ADP'), ('American', 'ADJ'), ('consumers', 'NOUN'), ('.', '.')], [('The', 'DET'), ('company', 'NOUN'), ('noted', 'VERB'), ('that', 'ADP'), ('it', 'PRON'), ('has', 'VERB'), ('reduced', 'VERB'), ('debt', 'NOUN'), ('by', 'ADP'), ('$', '.'), ('1.6', 'NUM'), ('billion', 'NUM'), ('*U*', 'X'), ('since', 'ADP'), ('the', 'DET'), ('end', 'NOUN'), ('of', 'ADP'), ('1988', 'NUM'), ('and', 'CONJ'), ('bought', 'VERB'), ('back', 'PRT'), ('about', 'ADP'), ('15.5', 'NUM'), ('million', 'NUM'), ('shares', 'NOUN'), ('of', 'ADP'), ('common', 'ADJ'), ('stock', 'NOUN'), ('since', 'ADP'), ('the', 'DET'), ('fourth', 'ADJ'), ('quarter', 'NOUN'), ('of', 'ADP'), ('1987', 'NUM'), ('.', '.')], [('Precious', 'ADJ'), ('metals', 'NOUN'), (',', '.'), ('gold', 'NOUN'), ('in', 'ADP'), ('particular', 'ADJ'), (',', '.'), ('currently', 'ADV'), ('are', 'VERB'), ('being', 'VERB'), ('influenced', 'VERB'), ('*-1', 'X'), ('more', 'ADJ'), ('by', 'ADP'), ('stock', 'NOUN'), ('market', 'NOUN'), ('gyrations', 'NOUN'), ('than', 'ADP'), ('the', 'DET'), ('dollar', 'NOUN'), ('as', 'ADP'), ('traders', 'NOUN'), ('seek', 'VERB'), ('greater', 'ADJ'), ('investment', 'NOUN'), ('stability', 'NOUN'), (',', '.'), ('according', 'VERB'), ('to', 'PRT'), ('William', 'NOUN'), (\"O'Neill\", 'NOUN'), (',', '.'), ('vice', 'NOUN'), ('president', 'NOUN'), ('of', 'ADP'), ('research', 'NOUN'), ('at', 'ADP'), ('Elders', 'NOUN'), ('Futures', 'NOUN'), ('in', 'ADP'), ('New', 'NOUN'), ('York', 'NOUN'), ('.', '.')], [('The', 'DET'), ('White', 'NOUN'), ('House', 'NOUN'), ('previously', 'ADV'), ('insisted', 'VERB'), ('on', 'ADP'), ('an', 'DET'), ('unrestricted', 'ADJ'), ('six-month', 'ADJ'), ('training', 'NOUN'), ('wage', 'NOUN'), ('that', 'DET'), ('*T*-1', 'X'), ('could', 'VERB'), ('be', 'VERB'), ('paid', 'VERB'), ('*-165', 'X'), ('any', 'DET'), ('time', 'NOUN'), ('0', 'X'), ('a', 'DET'), ('worker', 'NOUN'), ('of', 'ADP'), ('any', 'DET'), ('age', 'NOUN'), ('took', 'VERB'), ('a', 'DET'), ('new', 'ADJ'), ('job', 'NOUN'), ('*T*-2', 'X'), ('.', '.')], [('If', 'ADP'), ('the', 'DET'), ('debts', 'NOUN'), ('are', 'VERB'), ('repaid', 'VERB'), ('*-49', 'X'), (',', '.'), ('it', 'PRON'), ('could', 'VERB'), ('clear', 'VERB'), ('the', 'DET'), ('way', 'NOUN'), ('0', 'X'), ('for', 'ADP'), ('Soviet', 'ADJ'), ('bonds', 'NOUN'), ('to', 'PRT'), ('be', 'VERB'), ('sold', 'VERB'), ('*-50', 'X'), ('in', 'ADP'), ('the', 'DET'), ('U.S.', 'NOUN'), ('*T*-1', 'X'), ('.', '.')], [('Akio', 'NOUN'), ('Yamamoto', 'NOUN'), (',', '.'), ('managing', 'VERB'), ('director', 'NOUN'), ('of', 'ADP'), ('Nomura', 'NOUN'), ('Investment', 'NOUN'), ('Trust', 'NOUN'), ('Management', 'NOUN'), (',', '.'), ('said', 'VERB'), ('that', 'ADP'), ('if', 'ADP'), ('the', 'DET'), ('U.S.', 'NOUN'), ('federal', 'ADJ'), ('funds', 'NOUN'), ('rate', 'NOUN'), ('declines', 'VERB'), ('to', 'PRT'), ('around', 'ADP'), ('8.5', 'NUM'), ('%', 'NOUN'), (',', '.'), ('institutions', 'NOUN'), ('would', 'VERB'), ('acquire', 'VERB'), ('a', 'DET'), ('clearer', 'ADJ'), ('idea', 'NOUN'), ('regarding', 'VERB'), ('the', 'DET'), ('direction', 'NOUN'), ('of', 'ADP'), ('the', 'DET'), ('market', 'NOUN'), ('and', 'CONJ'), ('thus', 'ADV'), ('more', 'ADV'), ('comfortably', 'ADV'), ('participate', 'VERB'), ('in', 'ADP'), ('active', 'ADJ'), ('buying', 'NOUN'), ('.', '.')], [('In', 'ADP'), ('a', 'DET'), ('recent', 'ADJ'), ('report', 'NOUN'), (',', '.'), ('the', 'DET'), ('Institute', 'NOUN'), ('of', 'ADP'), ('Medicine', 'NOUN'), ('pointed', 'VERB'), ('out', 'PRT'), ('that', 'ADP'), ('certain', 'ADJ'), ('health', 'NOUN'), ('problems', 'NOUN'), ('may', 'VERB'), ('predispose', 'VERB'), ('a', 'DET'), ('person', 'NOUN'), ('to', 'PRT'), ('homelessness', 'NOUN'), (',', '.'), ('others', 'NOUN'), ('may', 'VERB'), ('be', 'VERB'), ('a', 'DET'), ('consequence', 'NOUN'), ('of', 'ADP'), ('it', 'PRON'), (',', '.'), ('and', 'CONJ'), ('a', 'DET'), ('third', 'ADJ'), ('category', 'NOUN'), ('is', 'VERB'), ('composed', 'VERB'), ('*-19', 'X'), ('of', 'ADP'), ('disorders', 'NOUN'), ('whose', 'PRON'), ('treatment', 'NOUN'), ('*T*-15', 'X'), ('is', 'VERB'), ('difficult', 'ADJ'), ('or', 'CONJ'), ('impossible', 'ADJ'), ('if', 'ADP'), ('a', 'DET'), ('person', 'NOUN'), ('lacks', 'VERB'), ('adequate', 'ADJ'), ('shelter', 'NOUN'), ('.', '.')], [('``', '.'), ('Strategic', 'ADJ'), ('objectives', 'NOUN'), (',', '.'), ('not', 'ADV'), ('financial', 'ADJ'), ('return', 'NOUN'), (',', '.'), ('drive', 'VERB'), ('many', 'ADJ'), ('of', 'ADP'), ('the', 'DET'), ('deals', 'NOUN'), (',', '.'), (\"''\", '.'), ('says', 'VERB'), ('*T*-1', 'X'), ('a', 'DET'), ('Venture', 'NOUN'), ('Economics', 'NOUN'), ('spokesman', 'NOUN'), ('.', '.')], [('Heritage', 'NOUN'), ('Media', 'NOUN'), (',', '.'), ('which', 'DET'), ('already', 'ADV'), ('*T*-1', 'X'), ('owns', 'VERB'), ('about', 'ADP'), ('51', 'NUM'), ('%', 'NOUN'), ('of', 'ADP'), ('POP', 'NOUN'), ('Radio', 'NOUN'), (',', '.'), ('proposed', 'VERB'), ('*-2', 'X'), ('paying', 'VERB'), ('POP', 'NOUN'), ('Radio', 'NOUN'), ('shareholders', 'NOUN'), ('with', 'ADP'), ('shares', 'NOUN'), ('of', 'ADP'), ('a', 'DET'), ('new', 'ADJ'), ('class', 'NOUN'), ('of', 'ADP'), ('Heritage', 'NOUN'), ('Media', 'NOUN'), ('preferred', 'ADJ'), ('stock', 'NOUN'), ('that', 'DET'), ('*T*-122', 'X'), ('would', 'VERB'), ('be', 'VERB'), ('convertible', 'ADJ'), ('into', 'ADP'), ('four', 'NUM'), ('shares', 'NOUN'), ('of', 'ADP'), ('Heritage', 'NOUN'), ('Media', 'NOUN'), (\"'s\", 'PRT'), ('common', 'NOUN'), ('.', '.')], [('Zenith', 'NOUN'), ('Data', 'NOUN'), ('Systems', 'NOUN'), ('Corp.', 'NOUN'), (',', '.'), ('a', 'DET'), ('subsidiary', 'NOUN'), ('of', 'ADP'), ('Zenith', 'NOUN'), ('Electronics', 'NOUN'), ('Corp.', 'NOUN'), (',', '.'), ('received', 'VERB'), ('a', 'DET'), ('$', '.'), ('534', 'NUM'), ('million', 'NUM'), ('*U*', 'X'), ('Navy', 'NOUN'), ('contract', 'NOUN'), ('for', 'ADP'), ('software', 'NOUN'), ('and', 'CONJ'), ('services', 'NOUN'), ('of', 'ADP'), ('microcomputers', 'NOUN'), ('over', 'ADP'), ('an', 'DET'), ('84-month', 'ADJ'), ('period', 'NOUN'), ('.', '.')], [('Mr.', 'NOUN'), ('Vinken', 'NOUN'), ('is', 'VERB'), ('chairman', 'NOUN'), ('of', 'ADP'), ('Elsevier', 'NOUN'), ('N.V.', 'NOUN'), (',', '.'), ('the', 'DET'), ('Dutch', 'NOUN'), ('publishing', 'VERB'), ('group', 'NOUN'), ('.', '.')], [('SEC', 'NOUN'), ('Chairman', 'NOUN'), ('Richard', 'NOUN'), ('Breeden', 'NOUN'), ('has', 'VERB'), ('said', 'VERB'), ('0', 'X'), ('he', 'PRON'), ('would', 'VERB'), ('be', 'VERB'), ('willing', 'ADJ'), ('*-1', 'X'), ('to', 'PRT'), ('consider', 'VERB'), ('circuit', 'NOUN'), ('breakers', 'NOUN'), ('that', 'DET'), ('*T*-215', 'X'), ('have', 'VERB'), ('preset', 'ADJ'), ('trigger', 'NOUN'), ('points', 'NOUN'), (',', '.'), ('but', 'CONJ'), ('he', 'PRON'), ('does', 'VERB'), (\"n't\", 'ADV'), ('want', 'VERB'), ('discretionary', 'ADJ'), ('power', 'NOUN'), ('*', 'X'), ('to', 'PRT'), ('stop', 'VERB'), ('programs', 'NOUN'), ('.', '.')], [('``', '.'), ('Feeding', 'NOUN'), ('Frenzy', 'NOUN'), (\"''\", '.'), ('-LRB-', '.'), ('Henry', 'NOUN'), ('Holt', 'NOUN'), (',', '.'), ('326', 'NUM'), ('pages', 'NOUN'), (',', '.'), ('$', '.'), ('19.95', 'NUM'), ('*U*', 'X'), ('-RRB-', '.'), (',', '.'), ('a', 'DET'), ('highly', 'ADV'), ('detailed', 'VERB'), ('account', 'NOUN'), ('of', 'ADP'), ('the', 'DET'), ('Wedtech', 'NOUN'), ('scandal', 'NOUN'), (',', '.'), ('begins', 'VERB'), ('on', 'ADP'), ('a', 'DET'), ('reassuring', 'ADJ'), ('note', 'NOUN'), ('.', '.')], [('Cathryn', 'NOUN'), ('Rice', 'NOUN'), ('could', 'VERB'), ('hardly', 'ADV'), ('believe', 'VERB'), ('her', 'PRON'), ('eyes', 'NOUN'), ('.', '.')], [('One', 'NOUN'), ('claims', 'VERB'), ('0', 'X'), ('he', 'PRON'), (\"'s\", 'VERB'), ('pro-choice', 'ADJ'), ('.', '.')], [('``', '.'), ('And', 'CONJ'), ('as', 'ADP'), ('a', 'DET'), ('leading', 'ADJ'), ('investment', 'NOUN'), ('and', 'CONJ'), ('merchant', 'NOUN'), ('banking', 'NOUN'), ('firm', 'NOUN'), (',', '.'), ('the', 'DET'), ('fact', 'NOUN'), ('that', 'ADP'), ('we', 'PRON'), ('are', 'VERB'), ('no', 'ADV'), ('longer', 'ADJ'), ('subject', 'ADJ'), ('to', 'PRT'), ('the', 'DET'), ('uncertainties', 'NOUN'), ('and', 'CONJ'), ('vicissitudes', 'NOUN'), ('of', 'ADP'), ('the', 'DET'), ('retail', 'ADJ'), ('business', 'NOUN'), ('is', 'VERB'), ('a', 'DET'), ('major', 'ADJ'), ('plus', 'NOUN'), ('in', 'ADP'), ('our', 'PRON'), ('view', 'NOUN'), ('.', '.')], [('``', '.'), ('The', 'DET'), ('USIA', 'NOUN'), ('publicly', 'ADV'), ('and', 'CONJ'), ('officially', 'ADV'), ('stated', 'VERB'), ('in', 'ADP'), ('the', 'DET'), ('litigation', 'NOUN'), ('that', 'ADP'), ('all', 'DET'), ('persons', 'NOUN'), ('are', 'VERB'), ('allowed', 'VERB'), ('*-35', 'X'), ('access', 'NOUN'), ('to', 'PRT'), ('the', 'DET'), ('materials', 'NOUN'), (',', '.'), ('notwithstanding', 'ADP'), ('the', 'DET'), ('statutory', 'ADJ'), ('designations', 'NOUN'), (',', '.'), ('because', 'ADP'), ('the', 'DET'), ('USIA', 'NOUN'), ('has', 'VERB'), ('determined', 'VERB'), ('that', 'ADP'), ('it', 'PRON'), ('will', 'VERB'), ('not', 'ADV'), ('check', 'VERB'), ('the', 'DET'), ('credentials', 'NOUN'), ('of', 'ADP'), ('any', 'DET'), ('person', 'NOUN'), ('appearing', 'VERB'), ('and', 'CONJ'), ('requesting', 'VERB'), ('*', 'X'), ('to', 'PRT'), ('see', 'VERB'), ('the', 'DET'), ('materials', 'NOUN'), (',', '.'), (\"''\", '.'), ('Mr.', 'NOUN'), ('McCormick', 'NOUN'), ('noted', 'VERB'), ('*T*-2', 'X'), ('.', '.')], [('Policies', 'NOUN'), ('designed', 'VERB'), ('*', 'X'), ('to', 'PRT'), ('encourage', 'VERB'), ('one', 'NUM'), ('type', 'NOUN'), ('of', 'ADP'), ('investor', 'NOUN'), ('over', 'ADP'), ('another', 'DET'), ('are', 'VERB'), ('akin', 'ADJ'), ('to', 'PRT'), ('*', 'X'), ('placing', 'VERB'), ('a', 'DET'), ('sign', 'NOUN'), ('*ICH*-1', 'X'), ('over', 'ADP'), ('the', 'DET'), ('Big', 'NOUN'), ('Board', 'NOUN'), (\"'s\", 'PRT'), ('door', 'NOUN'), ('saying', 'VERB'), (':', '.'), ('``', '.'), ('Buyers', 'NOUN'), ('welcome', 'VERB'), (',', '.'), ('sellers', 'NOUN'), ('please', 'VERB'), ('*', 'X'), ('go', 'VERB'), ('away', 'ADV'), ('!', '.'), (\"''\", '.')], [('At', 'ADP'), ('his', 'PRON'), ('new', 'ADJ'), ('job', 'NOUN'), (',', '.'), ('as', 'ADP'), ('partner', 'NOUN'), ('in', 'ADP'), ('charge', 'NOUN'), ('of', 'ADP'), ('federal', 'ADJ'), ('litigation', 'NOUN'), ('in', 'ADP'), ('the', 'DET'), ('Sacramento', 'NOUN'), ('office', 'NOUN'), ('of', 'ADP'), ('Orrick', 'NOUN'), (',', '.'), ('Herrington', 'NOUN'), ('&', 'CONJ'), ('Sutcliffe', 'NOUN'), (',', '.'), ('he', 'PRON'), ('will', 'VERB'), ('make', 'VERB'), ('out', 'PRT'), ('much', 'ADV'), ('better', 'ADV'), ('.', '.')], [('Japan', 'NOUN'), (\"'s\", 'PRT'), ('Finance', 'NOUN'), ('Ministry', 'NOUN'), ('had', 'VERB'), ('set', 'VERB'), ('up', 'PRT'), ('mechanisms', 'NOUN'), ('0', 'X'), ('*-1', 'X'), ('to', 'PRT'), ('limit', 'VERB'), ('how', 'ADV'), ('far', 'ADJ'), ('futures', 'NOUN'), ('prices', 'NOUN'), ('could', 'VERB'), ('fall', 'VERB'), ('*T*-2', 'X'), ('in', 'ADP'), ('a', 'DET'), ('single', 'ADJ'), ('session', 'NOUN'), ('and', 'CONJ'), ('*-1', 'X'), ('to', 'PRT'), ('give', 'VERB'), ('market', 'NOUN'), ('operators', 'NOUN'), ('the', 'DET'), ('authority', 'NOUN'), ('*', 'X'), ('to', 'PRT'), ('suspend', 'VERB'), ('trading', 'NOUN'), ('in', 'ADP'), ('futures', 'NOUN'), ('at', 'ADP'), ('any', 'DET'), ('time', 'NOUN'), ('.', '.')], [('And', 'CONJ'), (',', '.'), ('of', 'ADP'), ('course', 'NOUN'), (',', '.'), ('there', 'DET'), (\"'s\", 'VERB'), ('that', 'DET'), ('word', 'NOUN'), ('``', '.'), ('dissemination', 'NOUN'), ('.', '.'), (\"''\", '.')], [('The', 'DET'), ('S&P', 'NOUN'), ('index', 'NOUN'), ('started', 'VERB'), ('*-1', 'X'), ('sliding', 'VERB'), ('in', 'ADP'), ('price', 'NOUN'), ('in', 'ADP'), ('September', 'NOUN'), ('1976', 'NUM'), (',', '.'), ('and', 'CONJ'), ('fell', 'VERB'), ('12', 'NUM'), ('%', 'NOUN'), ('in', 'ADP'), ('1977', 'NUM'), ('--', '.'), ('despite', 'ADP'), ('a', 'DET'), ('15', 'NUM'), ('%', 'NOUN'), ('expansion', 'NOUN'), ('in', 'ADP'), ('dividends', 'NOUN'), ('that', 'DET'), ('year', 'NOUN'), ('.', '.')], [('The', 'DET'), ('Toronto-based', 'ADJ'), ('real', 'ADJ'), ('estate', 'NOUN'), ('concern', 'NOUN'), ('said', 'VERB'), ('0', 'X'), ('each', 'DET'), ('bond', 'NOUN'), ('warrant', 'NOUN'), ('entitles', 'VERB'), ('the', 'DET'), ('holder', 'NOUN'), ('to', 'PRT'), ('buy', 'VERB'), ('C$', '.'), ('1,000', 'NUM'), ('*U*', 'X'), ('principal', 'NOUN'), ('amount', 'NOUN'), ('of', 'ADP'), ('debentures', 'NOUN'), ('at', 'ADP'), ('par', 'NOUN'), ('plus', 'CONJ'), ('accrued', 'VERB'), ('interest', 'NOUN'), ('to', 'PRT'), ('the', 'DET'), ('date', 'NOUN'), ('of', 'ADP'), ('purchase', 'NOUN'), ('.', '.')], [('In', 'ADP'), ('fiscal', 'ADJ'), ('1989', 'NUM'), (',', '.'), ('Elco', 'NOUN'), ('earned', 'VERB'), ('$', '.'), ('7.8', 'NUM'), ('million', 'NUM'), ('*U*', 'X'), (',', '.'), ('or', 'CONJ'), ('$', '.'), ('1.65', 'NUM'), ('*U*', 'X'), ('a', 'DET'), ('share', 'NOUN'), ('.', '.')], [('At', 'ADP'), ('last', 'ADJ'), ('count', 'NOUN'), (',', '.'), ('Candela', 'NOUN'), ('had', 'VERB'), ('sold', 'VERB'), ('$', '.'), ('4', 'NUM'), ('million', 'NUM'), ('*U*', 'X'), ('of', 'ADP'), ('its', 'PRON'), ('medical', 'ADJ'), ('devices', 'NOUN'), ('in', 'ADP'), ('Japan', 'NOUN'), ('.', '.')], [('Mr.', 'NOUN'), ('Spiegel', 'NOUN'), (\"'s\", 'PRT'), ('next', 'ADJ'), ('career', 'NOUN'), ('move', 'NOUN'), ('is', 'VERB'), ('a', 'DET'), ('subject', 'NOUN'), ('of', 'ADP'), ('speculation', 'NOUN'), ('on', 'ADP'), ('Wall', 'NOUN'), ('Street', 'NOUN'), ('.', '.')], [('One', 'NUM'), ('survey', 'NOUN'), ('says', 'VERB'), ('that', 'ADP'), ('of', 'ADP'), ('the', 'DET'), ('100,000', 'NUM'), ('trained', 'VERB'), ('bellringers', 'NOUN'), ('in', 'ADP'), ('England', 'NOUN'), ('today', 'NOUN'), (',', '.'), ('only', 'ADV'), ('40,000', 'NUM'), ('of', 'ADP'), ('them', 'PRON'), ('still', 'ADV'), ('ring', 'VERB'), ('.', '.')], [('Mrs.', 'NOUN'), ('Ward', 'NOUN'), (',', '.'), ('for', 'ADP'), ('one', 'NUM'), (',', '.'), ('was', 'VERB'), ('relieved', 'ADJ'), ('.', '.')], [('These', 'DET'), ('nations', 'NOUN'), (',', '.'), ('known', 'VERB'), ('*', 'X'), ('as', 'ADP'), ('Asia', 'NOUN'), (\"'s\", 'PRT'), ('``', '.'), ('little', 'ADJ'), ('tigers', 'NOUN'), (',', '.'), (\"''\", '.'), ('also', 'ADV'), ('are', 'VERB'), ('contributing', 'VERB'), ('to', 'PRT'), ('Southeast', 'NOUN'), ('Asia', 'NOUN'), (\"'s\", 'PRT'), ('integration', 'NOUN'), (',', '.'), ('but', 'CONJ'), ('their', 'PRON'), ('influence', 'NOUN'), ('will', 'VERB'), ('remain', 'VERB'), ('subordinate', 'ADJ'), ('to', 'PRT'), ('Japan', 'NOUN'), (\"'s\", 'PRT'), ('.', '.')], [('Diamond', 'NOUN'), ('Creek', 'NOUN'), ('1985', 'NUM'), ('Lake', 'NOUN'), ('Vineyard', 'NOUN'), ('Cabernet', 'NOUN'), ('weighed', 'VERB'), ('in', 'PRT'), ('this', 'DET'), ('fall', 'NOUN'), ('with', 'ADP'), ('a', 'DET'), ('sticker', 'NOUN'), ('price', 'NOUN'), ('of', 'ADP'), ('$', '.'), ('100', 'NUM'), ('*U*', 'X'), ('a', 'DET'), ('bottle', 'NOUN'), ('.', '.')], [('Leo', 'NOUN'), ('Melamed', 'NOUN'), (',', '.'), ('Merc', 'NOUN'), ('executive', 'NOUN'), ('committee', 'NOUN'), ('chairman', 'NOUN'), (',', '.'), ('said', 'VERB'), ('that', 'ADP'), ('the', 'DET'), ('12-point', 'ADJ'), ('limit', 'NOUN'), ('appeared', 'VERB'), ('*-1', 'X'), ('to', 'PRT'), ('lessen', 'VERB'), ('the', 'DET'), ('selling', 'NOUN'), ('panic', 'NOUN'), ('Oct.', 'NOUN'), ('13', 'NUM'), ('.', '.')], [('The', 'DET'), ('move', 'NOUN'), ('is', 'VERB'), ('part', 'NOUN'), ('of', 'ADP'), ('a', 'DET'), ('strategy', 'NOUN'), ('0', 'X'), ('*T*-3', 'X'), ('to', 'PRT'), ('focus', 'VERB'), ('on', 'ADP'), ('its', 'PRON'), ('core', 'NOUN'), ('metals', 'NOUN'), ('trading', 'NOUN'), (',', '.'), ('processing', 'NOUN'), ('and', 'CONJ'), ('plant', 'NOUN'), ('engineering', 'NOUN'), ('activities', 'NOUN'), ('while', 'ADP'), ('*-1', 'X'), ('shedding', 'VERB'), ('peripheral', 'ADJ'), ('units', 'NOUN'), (',', '.'), ('the', 'DET'), ('company', 'NOUN'), ('said', 'VERB'), ('0', 'X'), ('*T*-2', 'X'), ('.', '.')]]\n"
     ]
    }
   ],
   "source": [
    "random.seed(1234)\n",
    "train_set, test_set = train_test_split(nltk_data,test_size=0.05)\n",
    "\n",
    "print(len(train_set))\n",
    "print(len(test_set))\n",
    "print(train_set[:40])"
   ]
  },
  {
   "cell_type": "code",
   "execution_count": 240,
   "metadata": {},
   "outputs": [
    {
     "data": {
      "text/plain": [
       "95680"
      ]
     },
     "execution_count": 240,
     "metadata": {},
     "output_type": "execute_result"
    }
   ],
   "source": [
    "# Getting list of tagged words\n",
    "train_tagged_words = [tup for sent in train_set for tup in sent]\n",
    "len(train_tagged_words)"
   ]
  },
  {
   "cell_type": "code",
   "execution_count": 241,
   "metadata": {},
   "outputs": [
    {
     "data": {
      "text/plain": [
       "['Fundamentalists',\n",
       " 'Jihad',\n",
       " 'Dallas',\n",
       " 'District',\n",
       " 'Judge',\n",
       " 'Jack',\n",
       " 'Hampton',\n",
       " 'had',\n",
       " 'sparked',\n",
       " 'calls']"
      ]
     },
     "execution_count": 241,
     "metadata": {},
     "output_type": "execute_result"
    }
   ],
   "source": [
    "# tokens \n",
    "tokens = [pair[0] for pair in train_tagged_words]\n",
    "tokens[:10]"
   ]
  },
  {
   "cell_type": "code",
   "execution_count": 242,
   "metadata": {},
   "outputs": [
    {
     "name": "stdout",
     "output_type": "stream",
     "text": [
      "12104\n"
     ]
    }
   ],
   "source": [
    "# vocabulary\n",
    "V = set(tokens)\n",
    "print(len(V))"
   ]
  },
  {
   "cell_type": "code",
   "execution_count": 243,
   "metadata": {},
   "outputs": [
    {
     "name": "stdout",
     "output_type": "stream",
     "text": [
      "12\n",
      "{'.', 'DET', 'ADV', 'PRT', 'X', 'VERB', 'ADP', 'CONJ', 'NUM', 'PRON', 'NOUN', 'ADJ'}\n"
     ]
    }
   ],
   "source": [
    "# number of tags\n",
    "T = set([pair[1] for pair in train_tagged_words])\n",
    "print(len(T))\n",
    "print(T)"
   ]
  },
  {
   "cell_type": "markdown",
   "metadata": {},
   "source": [
    "### Build the vanilla Viterbi based POS tagger"
   ]
  },
  {
   "cell_type": "code",
   "execution_count": 244,
   "metadata": {},
   "outputs": [],
   "source": [
    "# computing P(w/t) and storing in T x V matrix\n",
    "t = len(T)\n",
    "v = len(V)\n",
    "w_given_t = np.zeros((t, v))"
   ]
  },
  {
   "cell_type": "code",
   "execution_count": 245,
   "metadata": {},
   "outputs": [],
   "source": [
    "# compute word given tag: Emission Probability\n",
    "def word_given_tag(word, tag, train_bag = train_tagged_words):\n",
    "    tag_list = [pair for pair in train_bag if pair[1]==tag]\n",
    "    count_tag = len(tag_list)\n",
    "    w_given_tag_list = [pair[0] for pair in tag_list if pair[0]==word]\n",
    "    count_w_given_tag = len(w_given_tag_list)\n",
    "    \n",
    "    return (count_w_given_tag, count_tag)"
   ]
  },
  {
   "cell_type": "code",
   "execution_count": 246,
   "metadata": {},
   "outputs": [],
   "source": [
    "# compute tag given tag: tag2(t2) given tag1 (t1), i.e. Transition Probability\n",
    "\n",
    "def t2_given_t1(t2, t1, train_bag = train_tagged_words):\n",
    "    tags = [pair[1] for pair in train_bag]\n",
    "    count_t1 = len([t for t in tags if t==t1])\n",
    "    count_t2_t1 = 0\n",
    "    for index in range(len(tags)-1):\n",
    "        if tags[index]==t1 and tags[index+1] == t2:\n",
    "            count_t2_t1 += 1\n",
    "    return (count_t2_t1, count_t1)"
   ]
  },
  {
   "cell_type": "code",
   "execution_count": 247,
   "metadata": {},
   "outputs": [
    {
     "data": {
      "text/plain": [
       "array([[9.35167670e-02, 1.73635468e-01, 5.22435047e-02, 2.42783921e-03,\n",
       "        2.66163107e-02, 8.96502137e-02, 8.97401348e-02, 5.88076599e-02,\n",
       "        8.12876523e-02, 6.45625368e-02, 2.22641855e-01, 4.47801463e-02],\n",
       "       [1.70929804e-02, 4.97029955e-03, 1.23651354e-02, 2.42453636e-04,\n",
       "        4.50963750e-02, 4.00048494e-02, 9.45569202e-03, 3.63680447e-04,\n",
       "        2.18208265e-02, 3.63680441e-03, 6.38137937e-01, 2.06812948e-01],\n",
       "       [1.35000005e-01, 6.83333352e-02, 7.99999982e-02, 1.46666663e-02,\n",
       "        2.33333334e-02, 3.45999986e-01, 1.19000003e-01, 7.00000022e-03,\n",
       "        3.09999995e-02, 1.49999997e-02, 2.99999993e-02, 1.30666673e-01],\n",
       "       [4.33224738e-02, 1.01954401e-01, 1.04234526e-02, 1.95439742e-03,\n",
       "        1.33550493e-02, 4.00651455e-01, 2.08469052e-02, 1.95439742e-03,\n",
       "        5.50488606e-02, 1.75895765e-02, 2.48859942e-01, 8.40390846e-02],\n",
       "       [1.62727565e-01, 5.44554442e-02, 2.53912490e-02, 1.86362192e-01,\n",
       "        7.39380419e-02, 2.03768760e-01, 1.45800069e-01, 1.05397636e-02,\n",
       "        2.71478761e-03, 5.47748320e-02, 6.24401160e-02, 1.70871932e-02],\n",
       "       [3.52986827e-02, 1.32816136e-01, 8.14584941e-02, 3.18076015e-02,\n",
       "        2.16679603e-01, 1.69821560e-01, 9.23972055e-02, 5.35298698e-03,\n",
       "        2.20325831e-02, 3.58417369e-02, 1.11171454e-01, 6.53219521e-02],\n",
       "       [3.98423336e-02, 3.22360724e-01, 1.32097583e-02, 1.49142428e-03,\n",
       "        3.50484699e-02, 8.41589458e-03, 1.73644405e-02, 7.45712139e-04,\n",
       "        6.27463534e-02, 6.95642903e-02, 3.21082354e-01, 1.08128265e-01],\n",
       "       [3.36871259e-02, 1.18135668e-01, 5.53760976e-02, 5.07614203e-03,\n",
       "        7.84494728e-03, 1.56898946e-01, 5.21458238e-02, 4.61467454e-04,\n",
       "        4.19935398e-02, 5.99907711e-02, 3.50253820e-01, 1.18135668e-01],\n",
       "       [1.13969490e-01, 3.29045765e-03, 2.99132522e-03, 2.54262630e-02,\n",
       "        2.12683216e-01, 1.88453477e-02, 3.49985026e-02, 1.31618306e-02,\n",
       "        1.84863895e-01, 1.79479504e-03, 3.54472041e-01, 3.35028432e-02],\n",
       "       [4.07849178e-02, 1.00038480e-02, 3.23201232e-02, 1.26971910e-02,\n",
       "        9.15736854e-02, 4.82493281e-01, 2.30858028e-02, 5.38668735e-03,\n",
       "        7.31050409e-03, 7.69526744e-03, 2.13543668e-01, 7.31050372e-02],\n",
       "       [2.39973798e-01, 1.29922116e-02, 1.70681998e-02, 4.39624414e-02,\n",
       "        2.91869864e-02, 1.46371648e-01, 1.76977947e-01, 4.28706594e-02,\n",
       "        9.28015169e-03, 4.87662852e-03, 2.64211357e-01, 1.22279646e-02],\n",
       "       [6.54236153e-02, 4.90677124e-03, 4.74321237e-03, 1.03042200e-02,\n",
       "        2.12626755e-02, 1.17762508e-02, 7.68727511e-02, 1.70101412e-02,\n",
       "        2.02813223e-02, 6.54236181e-04, 7.01014042e-01, 6.57507330e-02]],\n",
       "      dtype=float32)"
      ]
     },
     "execution_count": 247,
     "metadata": {},
     "output_type": "execute_result"
    }
   ],
   "source": [
    "tags_matrix = np.zeros((len(T), len(T)), dtype='float32')\n",
    "for i, t1 in enumerate(list(T)):\n",
    "    for j, t2 in enumerate(list(T)): \n",
    "        tags_matrix[i, j] = t2_given_t1(t2, t1)[0]/t2_given_t1(t2, t1)[1]\n",
    "\n",
    "tags_matrix"
   ]
  },
  {
   "cell_type": "code",
   "execution_count": 248,
   "metadata": {},
   "outputs": [
    {
     "data": {
      "text/html": [
       "<div>\n",
       "<style scoped>\n",
       "    .dataframe tbody tr th:only-of-type {\n",
       "        vertical-align: middle;\n",
       "    }\n",
       "\n",
       "    .dataframe tbody tr th {\n",
       "        vertical-align: top;\n",
       "    }\n",
       "\n",
       "    .dataframe thead th {\n",
       "        text-align: right;\n",
       "    }\n",
       "</style>\n",
       "<table border=\"1\" class=\"dataframe\">\n",
       "  <thead>\n",
       "    <tr style=\"text-align: right;\">\n",
       "      <th></th>\n",
       "      <th>.</th>\n",
       "      <th>DET</th>\n",
       "      <th>ADV</th>\n",
       "      <th>PRT</th>\n",
       "      <th>X</th>\n",
       "      <th>VERB</th>\n",
       "      <th>ADP</th>\n",
       "      <th>CONJ</th>\n",
       "      <th>NUM</th>\n",
       "      <th>PRON</th>\n",
       "      <th>NOUN</th>\n",
       "      <th>ADJ</th>\n",
       "    </tr>\n",
       "  </thead>\n",
       "  <tbody>\n",
       "    <tr>\n",
       "      <th>.</th>\n",
       "      <td>0.093517</td>\n",
       "      <td>0.173635</td>\n",
       "      <td>0.052244</td>\n",
       "      <td>0.002428</td>\n",
       "      <td>0.026616</td>\n",
       "      <td>0.089650</td>\n",
       "      <td>0.089740</td>\n",
       "      <td>0.058808</td>\n",
       "      <td>0.081288</td>\n",
       "      <td>0.064563</td>\n",
       "      <td>0.222642</td>\n",
       "      <td>0.044780</td>\n",
       "    </tr>\n",
       "    <tr>\n",
       "      <th>DET</th>\n",
       "      <td>0.017093</td>\n",
       "      <td>0.004970</td>\n",
       "      <td>0.012365</td>\n",
       "      <td>0.000242</td>\n",
       "      <td>0.045096</td>\n",
       "      <td>0.040005</td>\n",
       "      <td>0.009456</td>\n",
       "      <td>0.000364</td>\n",
       "      <td>0.021821</td>\n",
       "      <td>0.003637</td>\n",
       "      <td>0.638138</td>\n",
       "      <td>0.206813</td>\n",
       "    </tr>\n",
       "    <tr>\n",
       "      <th>ADV</th>\n",
       "      <td>0.135000</td>\n",
       "      <td>0.068333</td>\n",
       "      <td>0.080000</td>\n",
       "      <td>0.014667</td>\n",
       "      <td>0.023333</td>\n",
       "      <td>0.346000</td>\n",
       "      <td>0.119000</td>\n",
       "      <td>0.007000</td>\n",
       "      <td>0.031000</td>\n",
       "      <td>0.015000</td>\n",
       "      <td>0.030000</td>\n",
       "      <td>0.130667</td>\n",
       "    </tr>\n",
       "    <tr>\n",
       "      <th>PRT</th>\n",
       "      <td>0.043322</td>\n",
       "      <td>0.101954</td>\n",
       "      <td>0.010423</td>\n",
       "      <td>0.001954</td>\n",
       "      <td>0.013355</td>\n",
       "      <td>0.400651</td>\n",
       "      <td>0.020847</td>\n",
       "      <td>0.001954</td>\n",
       "      <td>0.055049</td>\n",
       "      <td>0.017590</td>\n",
       "      <td>0.248860</td>\n",
       "      <td>0.084039</td>\n",
       "    </tr>\n",
       "    <tr>\n",
       "      <th>X</th>\n",
       "      <td>0.162728</td>\n",
       "      <td>0.054455</td>\n",
       "      <td>0.025391</td>\n",
       "      <td>0.186362</td>\n",
       "      <td>0.073938</td>\n",
       "      <td>0.203769</td>\n",
       "      <td>0.145800</td>\n",
       "      <td>0.010540</td>\n",
       "      <td>0.002715</td>\n",
       "      <td>0.054775</td>\n",
       "      <td>0.062440</td>\n",
       "      <td>0.017087</td>\n",
       "    </tr>\n",
       "    <tr>\n",
       "      <th>VERB</th>\n",
       "      <td>0.035299</td>\n",
       "      <td>0.132816</td>\n",
       "      <td>0.081458</td>\n",
       "      <td>0.031808</td>\n",
       "      <td>0.216680</td>\n",
       "      <td>0.169822</td>\n",
       "      <td>0.092397</td>\n",
       "      <td>0.005353</td>\n",
       "      <td>0.022033</td>\n",
       "      <td>0.035842</td>\n",
       "      <td>0.111171</td>\n",
       "      <td>0.065322</td>\n",
       "    </tr>\n",
       "    <tr>\n",
       "      <th>ADP</th>\n",
       "      <td>0.039842</td>\n",
       "      <td>0.322361</td>\n",
       "      <td>0.013210</td>\n",
       "      <td>0.001491</td>\n",
       "      <td>0.035048</td>\n",
       "      <td>0.008416</td>\n",
       "      <td>0.017364</td>\n",
       "      <td>0.000746</td>\n",
       "      <td>0.062746</td>\n",
       "      <td>0.069564</td>\n",
       "      <td>0.321082</td>\n",
       "      <td>0.108128</td>\n",
       "    </tr>\n",
       "    <tr>\n",
       "      <th>CONJ</th>\n",
       "      <td>0.033687</td>\n",
       "      <td>0.118136</td>\n",
       "      <td>0.055376</td>\n",
       "      <td>0.005076</td>\n",
       "      <td>0.007845</td>\n",
       "      <td>0.156899</td>\n",
       "      <td>0.052146</td>\n",
       "      <td>0.000461</td>\n",
       "      <td>0.041994</td>\n",
       "      <td>0.059991</td>\n",
       "      <td>0.350254</td>\n",
       "      <td>0.118136</td>\n",
       "    </tr>\n",
       "    <tr>\n",
       "      <th>NUM</th>\n",
       "      <td>0.113969</td>\n",
       "      <td>0.003290</td>\n",
       "      <td>0.002991</td>\n",
       "      <td>0.025426</td>\n",
       "      <td>0.212683</td>\n",
       "      <td>0.018845</td>\n",
       "      <td>0.034999</td>\n",
       "      <td>0.013162</td>\n",
       "      <td>0.184864</td>\n",
       "      <td>0.001795</td>\n",
       "      <td>0.354472</td>\n",
       "      <td>0.033503</td>\n",
       "    </tr>\n",
       "    <tr>\n",
       "      <th>PRON</th>\n",
       "      <td>0.040785</td>\n",
       "      <td>0.010004</td>\n",
       "      <td>0.032320</td>\n",
       "      <td>0.012697</td>\n",
       "      <td>0.091574</td>\n",
       "      <td>0.482493</td>\n",
       "      <td>0.023086</td>\n",
       "      <td>0.005387</td>\n",
       "      <td>0.007311</td>\n",
       "      <td>0.007695</td>\n",
       "      <td>0.213544</td>\n",
       "      <td>0.073105</td>\n",
       "    </tr>\n",
       "    <tr>\n",
       "      <th>NOUN</th>\n",
       "      <td>0.239974</td>\n",
       "      <td>0.012992</td>\n",
       "      <td>0.017068</td>\n",
       "      <td>0.043962</td>\n",
       "      <td>0.029187</td>\n",
       "      <td>0.146372</td>\n",
       "      <td>0.176978</td>\n",
       "      <td>0.042871</td>\n",
       "      <td>0.009280</td>\n",
       "      <td>0.004877</td>\n",
       "      <td>0.264211</td>\n",
       "      <td>0.012228</td>\n",
       "    </tr>\n",
       "    <tr>\n",
       "      <th>ADJ</th>\n",
       "      <td>0.065424</td>\n",
       "      <td>0.004907</td>\n",
       "      <td>0.004743</td>\n",
       "      <td>0.010304</td>\n",
       "      <td>0.021263</td>\n",
       "      <td>0.011776</td>\n",
       "      <td>0.076873</td>\n",
       "      <td>0.017010</td>\n",
       "      <td>0.020281</td>\n",
       "      <td>0.000654</td>\n",
       "      <td>0.701014</td>\n",
       "      <td>0.065751</td>\n",
       "    </tr>\n",
       "  </tbody>\n",
       "</table>\n",
       "</div>"
      ],
      "text/plain": [
       "             .       DET       ADV       PRT         X      VERB       ADP  \\\n",
       ".     0.093517  0.173635  0.052244  0.002428  0.026616  0.089650  0.089740   \n",
       "DET   0.017093  0.004970  0.012365  0.000242  0.045096  0.040005  0.009456   \n",
       "ADV   0.135000  0.068333  0.080000  0.014667  0.023333  0.346000  0.119000   \n",
       "PRT   0.043322  0.101954  0.010423  0.001954  0.013355  0.400651  0.020847   \n",
       "X     0.162728  0.054455  0.025391  0.186362  0.073938  0.203769  0.145800   \n",
       "VERB  0.035299  0.132816  0.081458  0.031808  0.216680  0.169822  0.092397   \n",
       "ADP   0.039842  0.322361  0.013210  0.001491  0.035048  0.008416  0.017364   \n",
       "CONJ  0.033687  0.118136  0.055376  0.005076  0.007845  0.156899  0.052146   \n",
       "NUM   0.113969  0.003290  0.002991  0.025426  0.212683  0.018845  0.034999   \n",
       "PRON  0.040785  0.010004  0.032320  0.012697  0.091574  0.482493  0.023086   \n",
       "NOUN  0.239974  0.012992  0.017068  0.043962  0.029187  0.146372  0.176978   \n",
       "ADJ   0.065424  0.004907  0.004743  0.010304  0.021263  0.011776  0.076873   \n",
       "\n",
       "          CONJ       NUM      PRON      NOUN       ADJ  \n",
       ".     0.058808  0.081288  0.064563  0.222642  0.044780  \n",
       "DET   0.000364  0.021821  0.003637  0.638138  0.206813  \n",
       "ADV   0.007000  0.031000  0.015000  0.030000  0.130667  \n",
       "PRT   0.001954  0.055049  0.017590  0.248860  0.084039  \n",
       "X     0.010540  0.002715  0.054775  0.062440  0.017087  \n",
       "VERB  0.005353  0.022033  0.035842  0.111171  0.065322  \n",
       "ADP   0.000746  0.062746  0.069564  0.321082  0.108128  \n",
       "CONJ  0.000461  0.041994  0.059991  0.350254  0.118136  \n",
       "NUM   0.013162  0.184864  0.001795  0.354472  0.033503  \n",
       "PRON  0.005387  0.007311  0.007695  0.213544  0.073105  \n",
       "NOUN  0.042871  0.009280  0.004877  0.264211  0.012228  \n",
       "ADJ   0.017010  0.020281  0.000654  0.701014  0.065751  "
      ]
     },
     "execution_count": 248,
     "metadata": {},
     "output_type": "execute_result"
    }
   ],
   "source": [
    "tags_df = pd.DataFrame(tags_matrix, columns = list(T), index=list(T))\n",
    "tags_df"
   ]
  },
  {
   "cell_type": "code",
   "execution_count": 249,
   "metadata": {},
   "outputs": [
    {
     "data": {
      "text/plain": [
       ".       0.093517\n",
       "DET     0.173635\n",
       "ADV     0.052244\n",
       "PRT     0.002428\n",
       "X       0.026616\n",
       "VERB    0.089650\n",
       "ADP     0.089740\n",
       "CONJ    0.058808\n",
       "NUM     0.081288\n",
       "PRON    0.064563\n",
       "NOUN    0.222642\n",
       "ADJ     0.044780\n",
       "Name: ., dtype: float32"
      ]
     },
     "execution_count": 249,
     "metadata": {},
     "output_type": "execute_result"
    }
   ],
   "source": [
    "tags_df.loc['.', :]"
   ]
  },
  {
   "cell_type": "code",
   "execution_count": 250,
   "metadata": {},
   "outputs": [
    {
     "data": {
      "image/png": "[encoded data removed]",
      "text/plain": [
       "<Figure size 1296x864 with 2 Axes>"
      ]
     },
     "metadata": {
      "needs_background": "light"
     },
     "output_type": "display_data"
    }
   ],
   "source": [
    "# heatmap of tags matrix\n",
    "# T(i, j) means P(tag j given tag i)\n",
    "plt.figure(figsize=(18, 12))\n",
    "sns.heatmap(tags_df)\n",
    "plt.show()"
   ]
  },
  {
   "cell_type": "code",
   "execution_count": 251,
   "metadata": {},
   "outputs": [
    {
     "data": {
      "image/png": "[encoded data removed]",
      "text/plain": [
       "<Figure size 1296x864 with 2 Axes>"
      ]
     },
     "metadata": {
      "needs_background": "light"
     },
     "output_type": "display_data"
    }
   ],
   "source": [
    "# frequent tags\n",
    "# filter the df to get P(t2, t1) > 0.25\n",
    "tags_frequent = tags_df[tags_df>0.25]\n",
    "plt.figure(figsize=(18, 12))\n",
    "sns.heatmap(tags_frequent)\n",
    "plt.show()"
   ]
  },
  {
   "cell_type": "code",
   "execution_count": 252,
   "metadata": {},
   "outputs": [
    {
     "data": {
      "text/plain": [
       "95680"
      ]
     },
     "execution_count": 252,
     "metadata": {},
     "output_type": "execute_result"
    }
   ],
   "source": [
    "len(train_tagged_words)"
   ]
  },
  {
   "cell_type": "code",
   "execution_count": 253,
   "metadata": {},
   "outputs": [],
   "source": [
    "# Viterbi Heuristic\n",
    "def Viterbi(words, train_bag = train_tagged_words):\n",
    "    state = []\n",
    "    T = list(set([pair[1] for pair in train_bag]))\n",
    "    \n",
    "    for key, word in enumerate(words):\n",
    "        #initialise list of probability column for a given observation\n",
    "        p = [] \n",
    "        for tag in T:\n",
    "            if key == 0:\n",
    "                transition_p = tags_df.loc['.', tag]\n",
    "            else:\n",
    "                transition_p = tags_df.loc[state[-1], tag]\n",
    "                \n",
    "            # compute emission and state probabilities\n",
    "            emission_p = word_given_tag(words[key], tag)[0]/word_given_tag(words[key], tag)[1]\n",
    "            state_probability = emission_p * transition_p    \n",
    "            p.append(state_probability)\n",
    "            \n",
    "        pmax = max(p)\n",
    "        # getting state for which probability is maximum\n",
    "        state_max = T[p.index(pmax)] \n",
    "        state.append(state_max)\n",
    "    return list(zip(words, state))"
   ]
  },
  {
   "cell_type": "code",
   "execution_count": 254,
   "metadata": {},
   "outputs": [
    {
     "data": {
      "text/plain": [
       "[[('Japan', 'NOUN'),\n",
       "  (\"'s\", 'PRT'),\n",
       "  ('domestic', 'ADJ'),\n",
       "  ('sales', 'NOUN'),\n",
       "  ('of', 'ADP'),\n",
       "  ('cars', 'NOUN'),\n",
       "  (',', '.'),\n",
       "  ('trucks', 'NOUN'),\n",
       "  ('and', 'CONJ'),\n",
       "  ('buses', 'NOUN'),\n",
       "  ('in', 'ADP'),\n",
       "  ('October', 'NOUN'),\n",
       "  ('rose', 'VERB'),\n",
       "  ('18', 'NUM'),\n",
       "  ('%', 'NOUN'),\n",
       "  ('from', 'ADP'),\n",
       "  ('a', 'DET'),\n",
       "  ('year', 'NOUN'),\n",
       "  ('earlier', 'ADJ'),\n",
       "  ('to', 'PRT'),\n",
       "  ('500,004', 'NUM'),\n",
       "  ('units', 'NOUN'),\n",
       "  (',', '.'),\n",
       "  ('a', 'DET'),\n",
       "  ('record', 'NOUN'),\n",
       "  ('for', 'ADP'),\n",
       "  ('the', 'DET'),\n",
       "  ('month', 'NOUN'),\n",
       "  (',', '.'),\n",
       "  ('the', 'DET'),\n",
       "  ('Japan', 'NOUN'),\n",
       "  ('Automobile', 'NOUN'),\n",
       "  ('Dealers', 'NOUN'),\n",
       "  (\"'\", 'PRT'),\n",
       "  ('Association', 'NOUN'),\n",
       "  ('said', 'VERB'),\n",
       "  ('0', 'X'),\n",
       "  ('*T*-1', 'X'),\n",
       "  ('.', '.')],\n",
       " [('Defending', 'VERB'),\n",
       "  ('their', 'PRON'),\n",
       "  ('ramparts', 'NOUN'),\n",
       "  ('are', 'VERB'),\n",
       "  ('*T*-1', 'X'),\n",
       "  ('Wall', 'NOUN'),\n",
       "  ('Street', 'NOUN'),\n",
       "  (\"'s\", 'PRT'),\n",
       "  ('Old', 'NOUN'),\n",
       "  ('Guard', 'NOUN'),\n",
       "  ('--', '.'),\n",
       "  ('the', 'DET'),\n",
       "  ('traditional', 'ADJ'),\n",
       "  (',', '.'),\n",
       "  ('stock-picking', 'ADJ'),\n",
       "  ('money', 'NOUN'),\n",
       "  ('managers', 'NOUN'),\n",
       "  (',', '.'),\n",
       "  ('tens', 'NOUN'),\n",
       "  ('of', 'ADP'),\n",
       "  ('thousands', 'NOUN'),\n",
       "  ('of', 'ADP'),\n",
       "  ('stock', 'NOUN'),\n",
       "  ('brokers', 'NOUN'),\n",
       "  (',', '.'),\n",
       "  ('the', 'DET'),\n",
       "  ('New', 'NOUN'),\n",
       "  ('York', 'NOUN'),\n",
       "  ('Stock', 'NOUN'),\n",
       "  ('Exchange', 'NOUN'),\n",
       "  (\"'s\", 'PRT'),\n",
       "  ('listed', 'VERB'),\n",
       "  ('companies', 'NOUN'),\n",
       "  ('and', 'CONJ'),\n",
       "  ('the', 'DET'),\n",
       "  ('clannish', 'ADJ'),\n",
       "  ('floor', 'NOUN'),\n",
       "  ('traders', 'NOUN'),\n",
       "  (',', '.'),\n",
       "  ('known', 'VERB'),\n",
       "  ('*', 'X'),\n",
       "  ('as', 'ADP'),\n",
       "  ('specialists', 'NOUN'),\n",
       "  (',', '.'),\n",
       "  ('who', 'PRON'),\n",
       "  ('*T*-65', 'X'),\n",
       "  ('make', 'VERB'),\n",
       "  ('markets', 'NOUN'),\n",
       "  ('in', 'ADP'),\n",
       "  ('their', 'PRON'),\n",
       "  ('stocks', 'NOUN'),\n",
       "  ('.', '.')],\n",
       " [('``', '.'),\n",
       "  ('There', 'DET'),\n",
       "  (\"'s\", 'VERB'),\n",
       "  ('no', 'DET'),\n",
       "  ('question', 'NOUN'),\n",
       "  ('that', 'ADP'),\n",
       "  ('some', 'DET'),\n",
       "  ('of', 'ADP'),\n",
       "  ('those', 'DET'),\n",
       "  ('workers', 'NOUN'),\n",
       "  ('and', 'CONJ'),\n",
       "  ('managers', 'NOUN'),\n",
       "  ('contracted', 'VERB'),\n",
       "  ('asbestos-related', 'ADJ'),\n",
       "  ('diseases', 'NOUN'),\n",
       "  (',', '.'),\n",
       "  (\"''\", '.'),\n",
       "  ('said', 'VERB'),\n",
       "  ('*T*-1', 'X'),\n",
       "  ('Darrell', 'NOUN'),\n",
       "  ('Phillips', 'NOUN'),\n",
       "  (',', '.'),\n",
       "  ('vice', 'NOUN'),\n",
       "  ('president', 'NOUN'),\n",
       "  ('of', 'ADP'),\n",
       "  ('human', 'ADJ'),\n",
       "  ('resources', 'NOUN'),\n",
       "  ('for', 'ADP'),\n",
       "  ('Hollingsworth', 'NOUN'),\n",
       "  ('&', 'CONJ'),\n",
       "  ('Vose', 'NOUN'),\n",
       "  ('.', '.')],\n",
       " [('The', 'DET'),\n",
       "  ('offer', 'NOUN'),\n",
       "  (',', '.'),\n",
       "  ('valued', 'VERB'),\n",
       "  ('*', 'X'),\n",
       "  ('at', 'ADP'),\n",
       "  ('about', 'ADP'),\n",
       "  ('$', '.'),\n",
       "  ('576', 'NUM'),\n",
       "  ('million', 'NUM'),\n",
       "  ('*U*', 'X'),\n",
       "  ('for', 'ADP'),\n",
       "  ('the', 'DET'),\n",
       "  ('33', 'NUM'),\n",
       "  ('%', 'NOUN'),\n",
       "  ('of', 'ADP'),\n",
       "  ('Telerate', 'NOUN'),\n",
       "  ('that', 'ADP'),\n",
       "  ('Dow', 'NOUN'),\n",
       "  ('Jones', 'NOUN'),\n",
       "  ('does', 'VERB'),\n",
       "  (\"n't\", 'ADV'),\n",
       "  ('already', 'ADV'),\n",
       "  ('own', 'VERB'),\n",
       "  ('*T*-1', 'X'),\n",
       "  (',', '.'),\n",
       "  ('had', 'VERB'),\n",
       "  ('been', 'VERB'),\n",
       "  ('set', 'VERB'),\n",
       "  ('*-2', 'X'),\n",
       "  ('to', 'PRT'),\n",
       "  ('expire', 'VERB'),\n",
       "  ('Nov.', 'NOUN'),\n",
       "  ('6', 'NUM'),\n",
       "  ('.', '.')],\n",
       " [('The', 'DET'),\n",
       "  ('survey', 'NOUN'),\n",
       "  ('found', 'VERB'),\n",
       "  ('that', 'ADP'),\n",
       "  ('nearly', 'ADV'),\n",
       "  ('half', 'NOUN'),\n",
       "  ('of', 'ADP'),\n",
       "  ('Hong', 'NOUN'),\n",
       "  ('Kong', 'NOUN'),\n",
       "  ('consumers', 'NOUN'),\n",
       "  ('espouse', 'VERB'),\n",
       "  ('what', 'PRON'),\n",
       "  ('it', 'PRON'),\n",
       "  ('identified', 'VERB'),\n",
       "  ('*T*-61', 'X'),\n",
       "  ('as', 'ADP'),\n",
       "  ('materialistic', 'ADJ'),\n",
       "  ('values', 'NOUN'),\n",
       "  (',', '.'),\n",
       "  ('compared', 'VERB'),\n",
       "  ('with', 'ADP'),\n",
       "  ('about', 'ADV'),\n",
       "  ('one-third', 'ADJ'),\n",
       "  ('in', 'ADP'),\n",
       "  ('Japan', 'NOUN'),\n",
       "  ('and', 'CONJ'),\n",
       "  ('the', 'DET'),\n",
       "  ('U.S.', 'NOUN'),\n",
       "  ('.', '.')]]"
      ]
     },
     "execution_count": 254,
     "metadata": {},
     "output_type": "execute_result"
    }
   ],
   "source": [
    "# Running on entire test dataset would take more than 3-4hrs. \n",
    "# Let's test our Viterbi algorithm on a few sample sentences of test dataset\n",
    "\n",
    "random.seed(1234)\n",
    "\n",
    "# choose random 5 sents\n",
    "rndom = [random.randint(1,len(test_set)) for x in range(5)]\n",
    "\n",
    "# list of sents\n",
    "test_run = [test_set[i] for i in rndom]\n",
    "\n",
    "# list of tagged words\n",
    "test_run_base = [tup for sent in test_run for tup in sent]\n",
    "\n",
    "# list of untagged words\n",
    "test_tagged_words = [tup[0] for sent in test_run for tup in sent]\n",
    "test_run"
   ]
  },
  {
   "cell_type": "code",
   "execution_count": 255,
   "metadata": {},
   "outputs": [
    {
     "name": "stdout",
     "output_type": "stream",
     "text": [
      "Time taken in seconds:  31.231656789779663\n",
      "[('Japan', 'NOUN'), (\"'s\", 'PRT'), ('domestic', 'ADJ'), ('sales', 'NOUN'), ('of', 'ADP'), ('cars', 'NOUN'), (',', '.'), ('trucks', 'NOUN'), ('and', 'CONJ'), ('buses', 'NOUN'), ('in', 'ADP'), ('October', 'NOUN'), ('rose', 'VERB'), ('18', 'NUM'), ('%', 'NOUN'), ('from', 'ADP'), ('a', 'DET'), ('year', 'NOUN'), ('earlier', 'ADV'), ('to', 'PRT'), ('500,004', '.'), ('units', 'NOUN'), (',', '.'), ('a', 'DET'), ('record', 'NOUN'), ('for', 'ADP'), ('the', 'DET'), ('month', 'NOUN'), (',', '.'), ('the', 'DET'), ('Japan', 'NOUN'), ('Automobile', '.'), ('Dealers', 'NOUN'), (\"'\", 'PRT'), ('Association', 'NOUN'), ('said', 'VERB'), ('0', 'X'), ('*T*-1', 'X'), ('.', '.'), ('Defending', '.'), ('their', 'PRON'), ('ramparts', '.'), ('are', 'VERB'), ('*T*-1', 'X'), ('Wall', 'NOUN'), ('Street', 'NOUN'), (\"'s\", 'PRT'), ('Old', 'NOUN'), ('Guard', 'NOUN'), ('--', '.'), ('the', 'DET'), ('traditional', 'ADJ'), (',', '.'), ('stock-picking', '.'), ('money', 'NOUN'), ('managers', 'NOUN'), (',', '.'), ('tens', '.'), ('of', 'ADP'), ('thousands', 'NOUN'), ('of', 'ADP'), ('stock', 'NOUN'), ('brokers', 'NOUN'), (',', '.'), ('the', 'DET'), ('New', 'NOUN'), ('York', 'NOUN'), ('Stock', 'NOUN'), ('Exchange', 'NOUN'), (\"'s\", 'PRT'), ('listed', 'VERB'), ('companies', 'NOUN'), ('and', 'CONJ'), ('the', 'DET'), ('clannish', '.'), ('floor', 'NOUN'), ('traders', 'NOUN'), (',', '.'), ('known', 'VERB'), ('*', 'X'), ('as', 'ADP'), ('specialists', 'NOUN'), (',', '.'), ('who', 'PRON'), ('*T*-65', 'X'), ('make', 'VERB'), ('markets', 'NOUN'), ('in', 'ADP'), ('their', 'PRON'), ('stocks', 'NOUN'), ('.', '.'), ('``', '.'), ('There', 'DET'), (\"'s\", 'VERB'), ('no', 'DET'), ('question', 'NOUN'), ('that', 'ADP'), ('some', 'DET'), ('of', 'ADP'), ('those', 'DET'), ('workers', 'NOUN'), ('and', 'CONJ'), ('managers', 'NOUN'), ('contracted', 'VERB'), ('asbestos-related', 'ADJ'), ('diseases', 'NOUN'), (',', '.'), (\"''\", '.'), ('said', 'VERB'), ('*T*-1', 'X'), ('Darrell', '.'), ('Phillips', 'NOUN'), (',', '.'), ('vice', 'NOUN'), ('president', 'NOUN'), ('of', 'ADP'), ('human', 'ADJ'), ('resources', 'NOUN'), ('for', 'ADP'), ('Hollingsworth', 'NOUN'), ('&', 'CONJ'), ('Vose', 'NOUN'), ('.', '.'), ('The', 'DET'), ('offer', 'NOUN'), (',', '.'), ('valued', 'VERB'), ('*', 'X'), ('at', 'ADP'), ('about', 'ADP'), ('$', '.'), ('576', '.'), ('million', 'NUM'), ('*U*', 'X'), ('for', 'ADP'), ('the', 'DET'), ('33', 'NUM'), ('%', 'NOUN'), ('of', 'ADP'), ('Telerate', 'NOUN'), ('that', 'ADP'), ('Dow', 'NOUN'), ('Jones', 'NOUN'), ('does', 'VERB'), (\"n't\", 'ADV'), ('already', 'ADV'), ('own', 'ADJ'), ('*T*-1', 'X'), (',', '.'), ('had', 'VERB'), ('been', 'VERB'), ('set', 'VERB'), ('*-2', 'X'), ('to', 'PRT'), ('expire', 'VERB'), ('Nov.', 'NOUN'), ('6', 'NUM'), ('.', '.'), ('The', 'DET'), ('survey', 'NOUN'), ('found', 'VERB'), ('that', 'ADP'), ('nearly', 'ADV'), ('half', 'DET'), ('of', 'ADP'), ('Hong', 'NOUN'), ('Kong', 'NOUN'), ('consumers', 'NOUN'), ('espouse', '.'), ('what', 'PRON'), ('it', 'PRON'), ('identified', 'VERB'), ('*T*-61', 'X'), ('as', 'ADP'), ('materialistic', '.'), ('values', 'NOUN'), (',', '.'), ('compared', 'VERB'), ('with', 'ADP'), ('about', 'ADP'), ('one-third', 'NOUN'), ('in', 'ADP'), ('Japan', 'NOUN'), ('and', 'CONJ'), ('the', 'DET'), ('U.S.', 'NOUN'), ('.', '.')]\n"
     ]
    }
   ],
   "source": [
    "# tagging the test sentences\n",
    "start = time.time()\n",
    "tagged_seq = Viterbi(test_tagged_words)\n",
    "end = time.time()\n",
    "difference = end-start\n",
    "print(\"Time taken in seconds: \", difference)\n",
    "print(tagged_seq)"
   ]
  },
  {
   "cell_type": "code",
   "execution_count": 256,
   "metadata": {},
   "outputs": [
    {
     "data": {
      "text/plain": [
       "0.9144385026737968"
      ]
     },
     "execution_count": 256,
     "metadata": {},
     "output_type": "execute_result"
    }
   ],
   "source": [
    "# accuracy\n",
    "check = [i for i, j in zip(tagged_seq, test_run_base) if i == j] \n",
    "vannila_viterbi_accuracy = len(check)/len(tagged_seq)\n",
    "vannila_viterbi_accuracy"
   ]
  },
  {
   "cell_type": "code",
   "execution_count": 257,
   "metadata": {},
   "outputs": [
    {
     "data": {
      "text/plain": [
       "[[('year', 'NOUN'), (('earlier', 'ADV'), ('earlier', 'ADJ'))],\n",
       " [('to', 'PRT'), (('500,004', '.'), ('500,004', 'NUM'))],\n",
       " [('Japan', 'NOUN'), (('Automobile', '.'), ('Automobile', 'NOUN'))],\n",
       " [('.', '.'), (('Defending', '.'), ('Defending', 'VERB'))],\n",
       " [('their', 'PRON'), (('ramparts', '.'), ('ramparts', 'NOUN'))],\n",
       " [(',', '.'), (('stock-picking', '.'), ('stock-picking', 'ADJ'))],\n",
       " [(',', '.'), (('tens', '.'), ('tens', 'NOUN'))],\n",
       " [('the', 'DET'), (('clannish', '.'), ('clannish', 'ADJ'))],\n",
       " [('*T*-1', 'X'), (('Darrell', '.'), ('Darrell', 'NOUN'))],\n",
       " [('$', '.'), (('576', '.'), ('576', 'NUM'))],\n",
       " [('already', 'ADV'), (('own', 'ADJ'), ('own', 'VERB'))],\n",
       " [('nearly', 'ADV'), (('half', 'DET'), ('half', 'NOUN'))],\n",
       " [('consumers', 'NOUN'), (('espouse', '.'), ('espouse', 'VERB'))],\n",
       " [('as', 'ADP'), (('materialistic', '.'), ('materialistic', 'ADJ'))],\n",
       " [('with', 'ADP'), (('about', 'ADP'), ('about', 'ADV'))],\n",
       " [('about', 'ADV'), (('one-third', 'NOUN'), ('one-third', 'ADJ'))]]"
      ]
     },
     "execution_count": 257,
     "metadata": {},
     "output_type": "execute_result"
    }
   ],
   "source": [
    "incorrect_tagged_cases = [[test_run_base[i-1],j] for i, j in enumerate(zip(tagged_seq, test_run_base)) if j[0]!=j[1]]\n",
    "incorrect_tagged_cases"
   ]
  },
  {
   "cell_type": "code",
   "execution_count": 258,
   "metadata": {
    "scrolled": false
   },
   "outputs": [
    {
     "name": "stdout",
     "output_type": "stream",
     "text": [
      "[('Android', '.'), ('is', 'VERB'), ('a', 'DET'), ('mobile', 'ADJ'), ('operating', 'NOUN'), ('system', 'NOUN'), ('developed', 'VERB'), ('by', 'ADP'), ('Google', '.'), ('.', '.'), ('Android', '.'), ('has', 'VERB'), ('been', 'VERB'), ('the', 'DET'), ('best-selling', 'ADJ'), ('OS', '.'), ('worldwide', '.'), ('on', 'ADP'), ('smartphones', '.'), ('since', 'ADP'), ('2011', '.'), ('and', 'CONJ'), ('on', 'ADP'), ('tablets', 'NOUN'), ('since', 'ADP'), ('2013', '.'), ('.', '.'), ('Google', '.'), ('and', 'CONJ'), ('Twitter', '.'), ('made', 'VERB'), ('a', 'DET'), ('deal', 'NOUN'), ('in', 'ADP'), ('2015', '.'), ('that', 'DET'), ('gave', 'VERB'), ('Google', '.'), ('access', 'NOUN'), ('to', 'PRT'), ('Twitter', '.'), (\"'s\", 'VERB'), ('firehose', '.'), ('.', '.'), ('Twitter', '.'), ('is', 'VERB'), ('an', 'DET'), ('online', '.'), ('news', 'NOUN'), ('and', 'CONJ'), ('social', 'ADJ'), ('networking', 'NOUN'), ('service', 'NOUN'), ('on', 'ADP'), ('which', 'DET'), ('users', 'NOUN'), ('post', 'NOUN'), ('and', 'CONJ'), ('interact', '.'), ('with', 'ADP'), ('messages', '.'), ('known', 'VERB'), ('as', 'ADP'), ('tweets', '.'), ('.', '.'), ('Before', 'ADP'), ('entering', 'VERB'), ('politics', 'NOUN'), (',', '.'), ('Donald', 'NOUN'), ('Trump', 'NOUN'), ('was', 'VERB'), ('a', 'DET'), ('domineering', '.'), ('businessman', 'NOUN'), ('and', 'CONJ'), ('a', 'DET'), ('television', 'NOUN'), ('personality', '.'), ('.', '.'), ('The', 'DET'), ('2018', '.'), ('FIFA', '.'), ('World', 'NOUN'), ('Cup', '.'), ('is', 'VERB'), ('the', 'DET'), ('21st', '.'), ('FIFA', '.'), ('World', 'NOUN'), ('Cup', '.'), (',', '.'), ('an', 'DET'), ('international', 'ADJ'), ('football', 'NOUN'), ('tournament', '.'), ('contested', '.'), ('once', 'ADV'), ('every', 'DET'), ('four', 'NUM'), ('years', 'NOUN'), ('.', '.'), ('This', 'DET'), ('is', 'VERB'), ('the', 'DET'), ('first', 'ADJ'), ('World', 'NOUN'), ('Cup', '.'), ('to', 'PRT'), ('be', 'VERB'), ('held', 'VERB'), ('in', 'ADP'), ('Eastern', 'NOUN'), ('Europe', 'NOUN'), ('and', 'CONJ'), ('the', 'DET'), ('11th', 'ADJ'), ('time', 'NOUN'), ('that', 'ADP'), ('it', 'PRON'), ('has', 'VERB'), ('been', 'VERB'), ('held', 'VERB'), ('in', 'ADP'), ('Europe', 'NOUN'), ('.', '.'), ('Show', 'NOUN'), ('me', 'PRON'), ('the', 'DET'), ('cheapest', 'ADJ'), ('round', 'NOUN'), ('trips', '.'), ('from', 'ADP'), ('Dallas', 'NOUN'), ('to', 'PRT'), ('Atlanta', 'NOUN'), ('I', 'PRON'), ('would', 'VERB'), ('like', 'ADP'), ('to', 'PRT'), ('see', 'VERB'), ('flights', 'NOUN'), ('from', 'ADP'), ('Denver', 'NOUN'), ('to', 'PRT'), ('Philadelphia', 'NOUN'), ('.', '.'), ('Show', 'NOUN'), ('me', 'PRON'), ('the', 'DET'), ('price', 'NOUN'), ('of', 'ADP'), ('the', 'DET'), ('flights', 'NOUN'), ('leaving', 'VERB'), ('Atlanta', 'NOUN'), ('at', 'ADP'), ('about', 'ADP'), ('3', 'NUM'), ('in', 'ADP'), ('the', 'DET'), ('afternoon', 'NOUN'), ('and', 'CONJ'), ('arriving', '.'), ('in', 'ADP'), ('San', 'NOUN'), ('Francisco', 'NOUN'), ('.', '.'), ('NASA', '.'), ('invited', '.'), ('social', 'ADJ'), ('media', 'NOUN'), ('users', 'NOUN'), ('to', 'PRT'), ('experience', 'NOUN'), ('the', 'DET'), ('launch', 'NOUN'), ('of', 'ADP'), ('ICESAT-2', '.'), ('Satellite', '.'), ('.', '.')]\n",
      "33.116294860839844\n"
     ]
    }
   ],
   "source": [
    "sentence_test = open('Test_sentences.txt',mode='r').read()\n",
    "words = word_tokenize(sentence_test)\n",
    "\n",
    "start = time.time()\n",
    "tagged_seq = Viterbi(words)\n",
    "end = time.time()\n",
    "difference = end-start\n",
    "\n",
    "print(tagged_seq)\n",
    "print(difference)\n",
    "vannila_test_tagged_seq = tagged_seq"
   ]
  },
  {
   "cell_type": "markdown",
   "metadata": {},
   "source": [
    "### Solve the problem of unknown words"
   ]
  },
  {
   "cell_type": "code",
   "execution_count": 259,
   "metadata": {},
   "outputs": [],
   "source": [
    "###Version 1 : Rule Based Tagging with Viterbi"
   ]
  },
  {
   "cell_type": "code",
   "execution_count": 260,
   "metadata": {},
   "outputs": [],
   "source": [
    "pattern = [\n",
    "        (r'.*Twitter$', 'NOUN'), \n",
    "        (r'.*Android$', 'NOUN'),\n",
    "        (r'.*Google$', 'NOUN'),\n",
    "        (r'[-+]?\\d*\\.\\d+|\\d+', 'NUM'), # Number with floating values\n",
    "        (r'.*es$', 'VERB'), \n",
    "        (r'.*ing$', 'VERB'), # gerunds or continuous tense\n",
    "        (r'.*ed$', 'VERB'),  # past perfect tense\n",
    "        (r'[A-Z ]+', 'NOUN'),  # all caps eg. FIFA, NASA, etc\n",
    "        (r'.*', 'NOUN'), # default value as NOUN\n",
    "]\n",
    "\n",
    "def rule_based_tagging(word, pattern):\n",
    "    regexp_tagger = nltk.RegexpTagger(pattern)\n",
    "    kv = regexp_tagger.tag(nltk.word_tokenize(word))\n",
    "    for v in kv:\n",
    "        print(word)\n",
    "        print(v[1])\n",
    "        return v[1]"
   ]
  },
  {
   "cell_type": "code",
   "execution_count": 261,
   "metadata": {},
   "outputs": [
    {
     "name": "stdout",
     "output_type": "stream",
     "text": [
      "500,004\n",
      "NUM\n",
      "Automobile\n",
      "NOUN\n",
      "Defending\n",
      "VERB\n",
      "ramparts\n",
      "NOUN\n",
      "stock-picking\n",
      "VERB\n",
      "tens\n",
      "NOUN\n",
      "clannish\n",
      "NOUN\n",
      "Darrell\n",
      "NOUN\n",
      "576\n",
      "NUM\n",
      "espouse\n",
      "NOUN\n",
      "materialistic\n",
      "NOUN\n",
      "Time taken in seconds:  41.41831302642822\n",
      "[('Japan', 'NOUN'), (\"'s\", 'PRT'), ('domestic', 'ADJ'), ('sales', 'NOUN'), ('of', 'ADP'), ('cars', 'NOUN'), (',', '.'), ('trucks', 'NOUN'), ('and', 'CONJ'), ('buses', 'NOUN'), ('in', 'ADP'), ('October', 'NOUN'), ('rose', 'VERB'), ('18', 'NUM'), ('%', 'NOUN'), ('from', 'ADP'), ('a', 'DET'), ('year', 'NOUN'), ('earlier', 'ADV'), ('to', 'PRT'), ('500,004', 'NUM'), ('units', 'NOUN'), (',', '.'), ('a', 'DET'), ('record', 'NOUN'), ('for', 'ADP'), ('the', 'DET'), ('month', 'NOUN'), (',', '.'), ('the', 'DET'), ('Japan', 'NOUN'), ('Automobile', 'NOUN'), ('Dealers', 'NOUN'), (\"'\", 'PRT'), ('Association', 'NOUN'), ('said', 'VERB'), ('0', 'X'), ('*T*-1', 'X'), ('.', '.'), ('Defending', 'VERB'), ('their', 'PRON'), ('ramparts', 'NOUN'), ('are', 'VERB'), ('*T*-1', 'X'), ('Wall', 'NOUN'), ('Street', 'NOUN'), (\"'s\", 'PRT'), ('Old', 'NOUN'), ('Guard', 'NOUN'), ('--', '.'), ('the', 'DET'), ('traditional', 'ADJ'), (',', '.'), ('stock-picking', 'VERB'), ('money', 'NOUN'), ('managers', 'NOUN'), (',', '.'), ('tens', 'NOUN'), ('of', 'ADP'), ('thousands', 'NOUN'), ('of', 'ADP'), ('stock', 'NOUN'), ('brokers', 'NOUN'), (',', '.'), ('the', 'DET'), ('New', 'NOUN'), ('York', 'NOUN'), ('Stock', 'NOUN'), ('Exchange', 'NOUN'), (\"'s\", 'PRT'), ('listed', 'VERB'), ('companies', 'NOUN'), ('and', 'CONJ'), ('the', 'DET'), ('clannish', 'NOUN'), ('floor', 'NOUN'), ('traders', 'NOUN'), (',', '.'), ('known', 'VERB'), ('*', 'X'), ('as', 'ADP'), ('specialists', 'NOUN'), (',', '.'), ('who', 'PRON'), ('*T*-65', 'X'), ('make', 'VERB'), ('markets', 'NOUN'), ('in', 'ADP'), ('their', 'PRON'), ('stocks', 'NOUN'), ('.', '.'), ('``', '.'), ('There', 'DET'), (\"'s\", 'VERB'), ('no', 'DET'), ('question', 'NOUN'), ('that', 'ADP'), ('some', 'DET'), ('of', 'ADP'), ('those', 'DET'), ('workers', 'NOUN'), ('and', 'CONJ'), ('managers', 'NOUN'), ('contracted', 'VERB'), ('asbestos-related', 'ADJ'), ('diseases', 'NOUN'), (',', '.'), (\"''\", '.'), ('said', 'VERB'), ('*T*-1', 'X'), ('Darrell', 'NOUN'), ('Phillips', 'NOUN'), (',', '.'), ('vice', 'NOUN'), ('president', 'NOUN'), ('of', 'ADP'), ('human', 'ADJ'), ('resources', 'NOUN'), ('for', 'ADP'), ('Hollingsworth', 'NOUN'), ('&', 'CONJ'), ('Vose', 'NOUN'), ('.', '.'), ('The', 'DET'), ('offer', 'NOUN'), (',', '.'), ('valued', 'VERB'), ('*', 'X'), ('at', 'ADP'), ('about', 'ADP'), ('$', '.'), ('576', 'NUM'), ('million', 'NUM'), ('*U*', 'X'), ('for', 'ADP'), ('the', 'DET'), ('33', 'NUM'), ('%', 'NOUN'), ('of', 'ADP'), ('Telerate', 'NOUN'), ('that', 'ADP'), ('Dow', 'NOUN'), ('Jones', 'NOUN'), ('does', 'VERB'), (\"n't\", 'ADV'), ('already', 'ADV'), ('own', 'ADJ'), ('*T*-1', 'X'), (',', '.'), ('had', 'VERB'), ('been', 'VERB'), ('set', 'VERB'), ('*-2', 'X'), ('to', 'PRT'), ('expire', 'VERB'), ('Nov.', 'NOUN'), ('6', 'NUM'), ('.', '.'), ('The', 'DET'), ('survey', 'NOUN'), ('found', 'VERB'), ('that', 'ADP'), ('nearly', 'ADV'), ('half', 'DET'), ('of', 'ADP'), ('Hong', 'NOUN'), ('Kong', 'NOUN'), ('consumers', 'NOUN'), ('espouse', 'NOUN'), ('what', 'PRON'), ('it', 'PRON'), ('identified', 'VERB'), ('*T*-61', 'X'), ('as', 'ADP'), ('materialistic', 'NOUN'), ('values', 'VERB'), (',', '.'), ('compared', 'VERB'), ('with', 'ADP'), ('about', 'ADP'), ('one-third', 'NOUN'), ('in', 'ADP'), ('Japan', 'NOUN'), ('and', 'CONJ'), ('the', 'DET'), ('U.S.', 'NOUN'), ('.', '.')]\n"
     ]
    }
   ],
   "source": [
    "# Viterbi Heuristic\n",
    "def modified_Viterbi_rule_based(words, train_bag = train_tagged_words):\n",
    "    state = []\n",
    "    T = list(set([pair[1] for pair in train_bag]))\n",
    "    \n",
    "    for key, word in enumerate(words):\n",
    "        #initialise list of probability column for a given observation\n",
    "        p = [] \n",
    "        for tag in T:\n",
    "            if key == 0:\n",
    "                transition_p = tags_df.loc['.', tag]\n",
    "            else:\n",
    "                transition_p = tags_df.loc[state[-1], tag]\n",
    "                \n",
    "            # compute emission and state probabilities\n",
    "            emission_p = word_given_tag(words[key], tag)[0]/word_given_tag(words[key], tag)[1]                \n",
    "            state_probability = emission_p * transition_p    \n",
    "            p.append(state_probability)\n",
    "        pmax = max(p)\n",
    "        if pmax == 0.0:       \n",
    "            state_max = rule_based_tagging(word, pattern)\n",
    "            if state_max is None :\n",
    "                state_max = \".\"\n",
    "        else :\n",
    "            state_max = T[p.index(pmax)] \n",
    "        state.append(state_max)\n",
    "    return list(zip(words, state))\n",
    "\n",
    "random.seed(1234)\n",
    "\n",
    "# choose random 5 sents\n",
    "rndom = [random.randint(1,len(test_set)) for x in range(5)]\n",
    "\n",
    "# list of sents\n",
    "test_run = [test_set[i] for i in rndom]\n",
    "\n",
    "# list of tagged words\n",
    "test_run_base = [tup for sent in test_run for tup in sent]\n",
    "\n",
    "# list of untagged words\n",
    "test_tagged_words = [tup[0] for sent in test_run for tup in sent]\n",
    "test_run\n",
    "\n",
    "# tagging the test sentences\n",
    "start = time.time()\n",
    "tagged_seq = modified_Viterbi_rule_based(test_tagged_words)\n",
    "end = time.time()\n",
    "difference = end-start\n",
    "\n",
    "print(\"Time taken in seconds: \", difference)\n",
    "print(tagged_seq)"
   ]
  },
  {
   "cell_type": "code",
   "execution_count": 262,
   "metadata": {},
   "outputs": [
    {
     "name": "stdout",
     "output_type": "stream",
     "text": [
      "0.946524064171123\n"
     ]
    }
   ],
   "source": [
    "# accuracy\n",
    "check = [i for i, j in zip(tagged_seq, test_run_base) if i == j] \n",
    "rulebased_modified_viterbi_accuracy = len(check)/len(tagged_seq)\n",
    "print(rulebased_modified_viterbi_accuracy)"
   ]
  },
  {
   "cell_type": "code",
   "execution_count": 263,
   "metadata": {},
   "outputs": [
    {
     "data": {
      "text/plain": [
       "[[('year', 'NOUN'), (('earlier', 'ADV'), ('earlier', 'ADJ'))],\n",
       " [(',', '.'), (('stock-picking', 'VERB'), ('stock-picking', 'ADJ'))],\n",
       " [('the', 'DET'), (('clannish', 'NOUN'), ('clannish', 'ADJ'))],\n",
       " [('already', 'ADV'), (('own', 'ADJ'), ('own', 'VERB'))],\n",
       " [('nearly', 'ADV'), (('half', 'DET'), ('half', 'NOUN'))],\n",
       " [('consumers', 'NOUN'), (('espouse', 'NOUN'), ('espouse', 'VERB'))],\n",
       " [('as', 'ADP'), (('materialistic', 'NOUN'), ('materialistic', 'ADJ'))],\n",
       " [('materialistic', 'ADJ'), (('values', 'VERB'), ('values', 'NOUN'))],\n",
       " [('with', 'ADP'), (('about', 'ADP'), ('about', 'ADV'))],\n",
       " [('about', 'ADV'), (('one-third', 'NOUN'), ('one-third', 'ADJ'))]]"
      ]
     },
     "execution_count": 263,
     "metadata": {},
     "output_type": "execute_result"
    }
   ],
   "source": [
    "incorrect_tagged_cases = [[test_run_base[i-1],j] for i, j in enumerate(zip(tagged_seq, test_run_base)) if j[0]!=j[1]]\n",
    "incorrect_tagged_cases"
   ]
  },
  {
   "cell_type": "code",
   "execution_count": 264,
   "metadata": {},
   "outputs": [
    {
     "name": "stdout",
     "output_type": "stream",
     "text": [
      "Android\n",
      "NOUN\n",
      "Google\n",
      "NOUN\n",
      "Android\n",
      "NOUN\n",
      "OS\n",
      "NOUN\n",
      "worldwide\n",
      "NOUN\n",
      "smartphones\n",
      "VERB\n",
      "2011\n",
      "NUM\n",
      "2013\n",
      "NUM\n",
      "Google\n",
      "NOUN\n",
      "Twitter\n",
      "NOUN\n",
      "2015\n",
      "NUM\n",
      "Google\n",
      "NOUN\n",
      "Twitter\n",
      "NOUN\n",
      "firehose\n",
      "NOUN\n",
      "Twitter\n",
      "NOUN\n",
      "online\n",
      "NOUN\n",
      "interact\n",
      "NOUN\n",
      "messages\n",
      "VERB\n",
      "tweets\n",
      "NOUN\n",
      "domineering\n",
      "VERB\n",
      "personality\n",
      "NOUN\n",
      "2018\n",
      "NUM\n",
      "FIFA\n",
      "NOUN\n",
      "Cup\n",
      "NOUN\n",
      "21st\n",
      "NUM\n",
      "FIFA\n",
      "NOUN\n",
      "Cup\n",
      "NOUN\n",
      "tournament\n",
      "NOUN\n",
      "contested\n",
      "VERB\n",
      "Cup\n",
      "NOUN\n",
      "trips\n",
      "NOUN\n",
      "arriving\n",
      "VERB\n",
      "NASA\n",
      "NOUN\n",
      "invited\n",
      "VERB\n",
      "ICESAT-2\n",
      "NOUN\n",
      "Satellite\n",
      "NOUN\n",
      "[('Android', 'NOUN'), ('is', 'VERB'), ('a', 'DET'), ('mobile', 'ADJ'), ('operating', 'NOUN'), ('system', 'NOUN'), ('developed', 'VERB'), ('by', 'ADP'), ('Google', 'NOUN'), ('.', '.'), ('Android', 'NOUN'), ('has', 'VERB'), ('been', 'VERB'), ('the', 'DET'), ('best-selling', 'ADJ'), ('OS', 'NOUN'), ('worldwide', 'NOUN'), ('on', 'ADP'), ('smartphones', 'VERB'), ('since', 'ADP'), ('2011', 'NUM'), ('and', 'CONJ'), ('on', 'ADP'), ('tablets', 'NOUN'), ('since', 'ADP'), ('2013', 'NUM'), ('.', '.'), ('Google', 'NOUN'), ('and', 'CONJ'), ('Twitter', 'NOUN'), ('made', 'VERB'), ('a', 'DET'), ('deal', 'NOUN'), ('in', 'ADP'), ('2015', 'NUM'), ('that', 'ADP'), ('gave', 'VERB'), ('Google', 'NOUN'), ('access', 'NOUN'), ('to', 'PRT'), ('Twitter', 'NOUN'), (\"'s\", 'PRT'), ('firehose', 'NOUN'), ('.', '.'), ('Twitter', 'NOUN'), ('is', 'VERB'), ('an', 'DET'), ('online', 'NOUN'), ('news', 'NOUN'), ('and', 'CONJ'), ('social', 'ADJ'), ('networking', 'NOUN'), ('service', 'NOUN'), ('on', 'ADP'), ('which', 'DET'), ('users', 'NOUN'), ('post', 'NOUN'), ('and', 'CONJ'), ('interact', 'NOUN'), ('with', 'ADP'), ('messages', 'VERB'), ('known', 'VERB'), ('as', 'ADP'), ('tweets', 'NOUN'), ('.', '.'), ('Before', 'ADP'), ('entering', 'VERB'), ('politics', 'NOUN'), (',', '.'), ('Donald', 'NOUN'), ('Trump', 'NOUN'), ('was', 'VERB'), ('a', 'DET'), ('domineering', 'VERB'), ('businessman', 'NOUN'), ('and', 'CONJ'), ('a', 'DET'), ('television', 'NOUN'), ('personality', 'NOUN'), ('.', '.'), ('The', 'DET'), ('2018', 'NUM'), ('FIFA', 'NOUN'), ('World', 'NOUN'), ('Cup', 'NOUN'), ('is', 'VERB'), ('the', 'DET'), ('21st', 'NUM'), ('FIFA', 'NOUN'), ('World', 'NOUN'), ('Cup', 'NOUN'), (',', '.'), ('an', 'DET'), ('international', 'ADJ'), ('football', 'NOUN'), ('tournament', 'NOUN'), ('contested', 'VERB'), ('once', 'ADV'), ('every', 'DET'), ('four', 'NUM'), ('years', 'NOUN'), ('.', '.'), ('This', 'DET'), ('is', 'VERB'), ('the', 'DET'), ('first', 'ADJ'), ('World', 'NOUN'), ('Cup', 'NOUN'), ('to', 'PRT'), ('be', 'VERB'), ('held', 'VERB'), ('in', 'ADP'), ('Eastern', 'NOUN'), ('Europe', 'NOUN'), ('and', 'CONJ'), ('the', 'DET'), ('11th', 'ADJ'), ('time', 'NOUN'), ('that', 'ADP'), ('it', 'PRON'), ('has', 'VERB'), ('been', 'VERB'), ('held', 'VERB'), ('in', 'ADP'), ('Europe', 'NOUN'), ('.', '.'), ('Show', 'NOUN'), ('me', 'PRON'), ('the', 'DET'), ('cheapest', 'ADJ'), ('round', 'NOUN'), ('trips', 'NOUN'), ('from', 'ADP'), ('Dallas', 'NOUN'), ('to', 'PRT'), ('Atlanta', 'NOUN'), ('I', 'PRON'), ('would', 'VERB'), ('like', 'ADP'), ('to', 'PRT'), ('see', 'VERB'), ('flights', 'NOUN'), ('from', 'ADP'), ('Denver', 'NOUN'), ('to', 'PRT'), ('Philadelphia', 'NOUN'), ('.', '.'), ('Show', 'NOUN'), ('me', 'PRON'), ('the', 'DET'), ('price', 'NOUN'), ('of', 'ADP'), ('the', 'DET'), ('flights', 'NOUN'), ('leaving', 'VERB'), ('Atlanta', 'NOUN'), ('at', 'ADP'), ('about', 'ADP'), ('3', 'NUM'), ('in', 'ADP'), ('the', 'DET'), ('afternoon', 'NOUN'), ('and', 'CONJ'), ('arriving', 'VERB'), ('in', 'ADP'), ('San', 'NOUN'), ('Francisco', 'NOUN'), ('.', '.'), ('NASA', 'NOUN'), ('invited', 'VERB'), ('social', 'ADJ'), ('media', 'NOUN'), ('users', 'NOUN'), ('to', 'PRT'), ('experience', 'NOUN'), ('the', 'DET'), ('launch', 'NOUN'), ('of', 'ADP'), ('ICESAT-2', 'NOUN'), ('Satellite', 'NOUN'), ('.', '.')]\n",
      "38.21746373176575\n"
     ]
    }
   ],
   "source": [
    "sentence_test = open('Test_sentences.txt',mode='r').read()\n",
    "words = word_tokenize(sentence_test)\n",
    "\n",
    "start = time.time()\n",
    "tagged_seq = modified_Viterbi_rule_based(words)\n",
    "end = time.time()\n",
    "difference = end-start\n",
    "\n",
    "print(tagged_seq)\n",
    "print(difference)\n",
    "rulebased_test_tagged_seq = tagged_seq"
   ]
  },
  {
   "cell_type": "code",
   "execution_count": 265,
   "metadata": {},
   "outputs": [],
   "source": [
    "###Version 2 : Rule Based Tagging with Viterbi\n",
    "\n",
    "def bigram_tagger(wording) :\n",
    "    t0 = DefaultTagger('NOUN')\n",
    "    t1 = UnigramTagger(train_set, backoff=t0)\n",
    "    t2 = BigramTagger(train_set, backoff=t1)\n",
    "    listvalue=t2.tag(nltk.word_tokenize(wording))\n",
    "    return listvalue[0][1]"
   ]
  },
  {
   "cell_type": "code",
   "execution_count": 266,
   "metadata": {},
   "outputs": [
    {
     "name": "stdout",
     "output_type": "stream",
     "text": [
      "500,004\n",
      "NUM\n",
      "Automobile\n",
      "NOUN\n",
      "Defending\n",
      "VERB\n",
      "ramparts\n",
      "NOUN\n",
      "stock-picking\n",
      "VERB\n",
      "tens\n",
      "NOUN\n",
      "clannish\n",
      "NOUN\n",
      "Darrell\n",
      "NOUN\n",
      "576\n",
      "NUM\n",
      "espouse\n",
      "NOUN\n",
      "materialistic\n",
      "NOUN\n",
      "Time taken in seconds:  41.346479177474976\n",
      "[('Japan', 'NOUN'), (\"'s\", 'PRT'), ('domestic', 'ADJ'), ('sales', 'NOUN'), ('of', 'ADP'), ('cars', 'NOUN'), (',', '.'), ('trucks', 'NOUN'), ('and', 'CONJ'), ('buses', 'NOUN'), ('in', 'ADP'), ('October', 'NOUN'), ('rose', 'VERB'), ('18', 'NUM'), ('%', 'NOUN'), ('from', 'ADP'), ('a', 'DET'), ('year', 'NOUN'), ('earlier', 'ADV'), ('to', 'PRT'), ('500,004', 'NUM'), ('units', 'NOUN'), (',', '.'), ('a', 'DET'), ('record', 'NOUN'), ('for', 'ADP'), ('the', 'DET'), ('month', 'NOUN'), (',', '.'), ('the', 'DET'), ('Japan', 'NOUN'), ('Automobile', 'NOUN'), ('Dealers', 'NOUN'), (\"'\", 'PRT'), ('Association', 'NOUN'), ('said', 'VERB'), ('0', 'X'), ('*T*-1', 'X'), ('.', '.'), ('Defending', 'VERB'), ('their', 'PRON'), ('ramparts', 'NOUN'), ('are', 'VERB'), ('*T*-1', 'X'), ('Wall', 'NOUN'), ('Street', 'NOUN'), (\"'s\", 'PRT'), ('Old', 'NOUN'), ('Guard', 'NOUN'), ('--', '.'), ('the', 'DET'), ('traditional', 'ADJ'), (',', '.'), ('stock-picking', 'VERB'), ('money', 'NOUN'), ('managers', 'NOUN'), (',', '.'), ('tens', 'NOUN'), ('of', 'ADP'), ('thousands', 'NOUN'), ('of', 'ADP'), ('stock', 'NOUN'), ('brokers', 'NOUN'), (',', '.'), ('the', 'DET'), ('New', 'NOUN'), ('York', 'NOUN'), ('Stock', 'NOUN'), ('Exchange', 'NOUN'), (\"'s\", 'PRT'), ('listed', 'VERB'), ('companies', 'NOUN'), ('and', 'CONJ'), ('the', 'DET'), ('clannish', 'NOUN'), ('floor', 'NOUN'), ('traders', 'NOUN'), (',', '.'), ('known', 'VERB'), ('*', 'X'), ('as', 'ADP'), ('specialists', 'NOUN'), (',', '.'), ('who', 'PRON'), ('*T*-65', 'X'), ('make', 'VERB'), ('markets', 'NOUN'), ('in', 'ADP'), ('their', 'PRON'), ('stocks', 'NOUN'), ('.', '.'), ('``', '.'), ('There', 'DET'), (\"'s\", 'VERB'), ('no', 'DET'), ('question', 'NOUN'), ('that', 'ADP'), ('some', 'DET'), ('of', 'ADP'), ('those', 'DET'), ('workers', 'NOUN'), ('and', 'CONJ'), ('managers', 'NOUN'), ('contracted', 'VERB'), ('asbestos-related', 'ADJ'), ('diseases', 'NOUN'), (',', '.'), (\"''\", '.'), ('said', 'VERB'), ('*T*-1', 'X'), ('Darrell', 'NOUN'), ('Phillips', 'NOUN'), (',', '.'), ('vice', 'NOUN'), ('president', 'NOUN'), ('of', 'ADP'), ('human', 'ADJ'), ('resources', 'NOUN'), ('for', 'ADP'), ('Hollingsworth', 'NOUN'), ('&', 'CONJ'), ('Vose', 'NOUN'), ('.', '.'), ('The', 'DET'), ('offer', 'NOUN'), (',', '.'), ('valued', 'VERB'), ('*', 'X'), ('at', 'ADP'), ('about', 'ADP'), ('$', '.'), ('576', 'NUM'), ('million', 'NUM'), ('*U*', 'X'), ('for', 'ADP'), ('the', 'DET'), ('33', 'NUM'), ('%', 'NOUN'), ('of', 'ADP'), ('Telerate', 'NOUN'), ('that', 'ADP'), ('Dow', 'NOUN'), ('Jones', 'NOUN'), ('does', 'VERB'), (\"n't\", 'ADV'), ('already', 'ADV'), ('own', 'ADJ'), ('*T*-1', 'X'), (',', '.'), ('had', 'VERB'), ('been', 'VERB'), ('set', 'VERB'), ('*-2', 'X'), ('to', 'PRT'), ('expire', 'VERB'), ('Nov.', 'NOUN'), ('6', 'NUM'), ('.', '.'), ('The', 'DET'), ('survey', 'NOUN'), ('found', 'VERB'), ('that', 'ADP'), ('nearly', 'ADV'), ('half', 'DET'), ('of', 'ADP'), ('Hong', 'NOUN'), ('Kong', 'NOUN'), ('consumers', 'NOUN'), ('espouse', 'NOUN'), ('what', 'PRON'), ('it', 'PRON'), ('identified', 'VERB'), ('*T*-61', 'X'), ('as', 'ADP'), ('materialistic', 'NOUN'), ('values', 'VERB'), (',', '.'), ('compared', 'VERB'), ('with', 'ADP'), ('about', 'ADP'), ('one-third', 'NOUN'), ('in', 'ADP'), ('Japan', 'NOUN'), ('and', 'CONJ'), ('the', 'DET'), ('U.S.', 'NOUN'), ('.', '.')]\n"
     ]
    }
   ],
   "source": [
    "# Viterbi Heuristic\n",
    "def modified_Viterbi_lexicon_based(words, train_bag = train_tagged_words):\n",
    "    state = []\n",
    "    T = list(set([pair[1] for pair in train_bag]))\n",
    "    \n",
    "    for key, word in enumerate(words):\n",
    "        #initialise list of probability column for a given observation\n",
    "        p = [] \n",
    "        for tag in T:\n",
    "            if key == 0:\n",
    "                transition_p = tags_df.loc['.', tag]\n",
    "            else:\n",
    "                transition_p = tags_df.loc[state[-1], tag]\n",
    "                \n",
    "            # compute emission and state probabilities\n",
    "            emission_p = word_given_tag(words[key], tag)[0]/word_given_tag(words[key], tag)[1]                \n",
    "            state_probability = emission_p * transition_p    \n",
    "            p.append(state_probability)\n",
    "        pmax = max(p)\n",
    "        if pmax == 0.0:       \n",
    "            state_max = rule_based_tagging(word, pattern)\n",
    "            if state_max is None :\n",
    "                state_max = \".\"\n",
    "        else :\n",
    "            state_max = T[p.index(pmax)] \n",
    "        state.append(state_max)\n",
    "    return list(zip(words, state))\n",
    "\n",
    "random.seed(1234)\n",
    "\n",
    "# choose random 5 sents\n",
    "rndom = [random.randint(1,len(test_set)) for x in range(5)]\n",
    "\n",
    "# list of sents\n",
    "test_run = [test_set[i] for i in rndom]\n",
    "\n",
    "# list of tagged words\n",
    "test_run_base = [tup for sent in test_run for tup in sent]\n",
    "\n",
    "# list of untagged words\n",
    "test_tagged_words = [tup[0] for sent in test_run for tup in sent]\n",
    "test_run\n",
    "\n",
    "# tagging the test sentences\n",
    "start = time.time()\n",
    "tagged_seq = modified_Viterbi_lexicon_based(test_tagged_words)\n",
    "end = time.time()\n",
    "difference = end-start\n",
    "\n",
    "print(\"Time taken in seconds: \", difference)\n",
    "print(tagged_seq)"
   ]
  },
  {
   "cell_type": "code",
   "execution_count": 267,
   "metadata": {},
   "outputs": [
    {
     "name": "stdout",
     "output_type": "stream",
     "text": [
      "0.946524064171123\n"
     ]
    },
    {
     "data": {
      "text/plain": [
       "[[('year', 'NOUN'), (('earlier', 'ADV'), ('earlier', 'ADJ'))],\n",
       " [(',', '.'), (('stock-picking', 'VERB'), ('stock-picking', 'ADJ'))],\n",
       " [('the', 'DET'), (('clannish', 'NOUN'), ('clannish', 'ADJ'))],\n",
       " [('already', 'ADV'), (('own', 'ADJ'), ('own', 'VERB'))],\n",
       " [('nearly', 'ADV'), (('half', 'DET'), ('half', 'NOUN'))],\n",
       " [('consumers', 'NOUN'), (('espouse', 'NOUN'), ('espouse', 'VERB'))],\n",
       " [('as', 'ADP'), (('materialistic', 'NOUN'), ('materialistic', 'ADJ'))],\n",
       " [('materialistic', 'ADJ'), (('values', 'VERB'), ('values', 'NOUN'))],\n",
       " [('with', 'ADP'), (('about', 'ADP'), ('about', 'ADV'))],\n",
       " [('about', 'ADV'), (('one-third', 'NOUN'), ('one-third', 'ADJ'))]]"
      ]
     },
     "execution_count": 267,
     "metadata": {},
     "output_type": "execute_result"
    }
   ],
   "source": [
    "# accuracy\n",
    "check = [i for i, j in zip(tagged_seq, test_run_base) if i == j] \n",
    "lexicon_based_viterbi_accuracy = len(check)/len(tagged_seq)\n",
    "print(lexicon_based_viterbi_accuracy)\n",
    "\n",
    "incorrect_tagged_cases = [[test_run_base[i-1],j] for i, j in enumerate(zip(tagged_seq, test_run_base)) if j[0]!=j[1]]\n",
    "incorrect_tagged_cases"
   ]
  },
  {
   "cell_type": "code",
   "execution_count": 268,
   "metadata": {},
   "outputs": [
    {
     "name": "stdout",
     "output_type": "stream",
     "text": [
      "Android\n",
      "NOUN\n",
      "Google\n",
      "NOUN\n",
      "Android\n",
      "NOUN\n",
      "OS\n",
      "NOUN\n",
      "worldwide\n",
      "NOUN\n",
      "smartphones\n",
      "VERB\n",
      "2011\n",
      "NUM\n",
      "2013\n",
      "NUM\n",
      "Google\n",
      "NOUN\n",
      "Twitter\n",
      "NOUN\n",
      "2015\n",
      "NUM\n",
      "Google\n",
      "NOUN\n",
      "Twitter\n",
      "NOUN\n",
      "firehose\n",
      "NOUN\n",
      "Twitter\n",
      "NOUN\n",
      "online\n",
      "NOUN\n",
      "interact\n",
      "NOUN\n",
      "messages\n",
      "VERB\n",
      "tweets\n",
      "NOUN\n",
      "domineering\n",
      "VERB\n",
      "personality\n",
      "NOUN\n",
      "2018\n",
      "NUM\n",
      "FIFA\n",
      "NOUN\n",
      "Cup\n",
      "NOUN\n",
      "21st\n",
      "NUM\n",
      "FIFA\n",
      "NOUN\n",
      "Cup\n",
      "NOUN\n",
      "tournament\n",
      "NOUN\n",
      "contested\n",
      "VERB\n",
      "Cup\n",
      "NOUN\n",
      "trips\n",
      "NOUN\n",
      "arriving\n",
      "VERB\n",
      "NASA\n",
      "NOUN\n",
      "invited\n",
      "VERB\n",
      "ICESAT-2\n",
      "NOUN\n",
      "Satellite\n",
      "NOUN\n",
      "[('Android', 'NOUN'), ('is', 'VERB'), ('a', 'DET'), ('mobile', 'ADJ'), ('operating', 'NOUN'), ('system', 'NOUN'), ('developed', 'VERB'), ('by', 'ADP'), ('Google', 'NOUN'), ('.', '.'), ('Android', 'NOUN'), ('has', 'VERB'), ('been', 'VERB'), ('the', 'DET'), ('best-selling', 'ADJ'), ('OS', 'NOUN'), ('worldwide', 'NOUN'), ('on', 'ADP'), ('smartphones', 'VERB'), ('since', 'ADP'), ('2011', 'NUM'), ('and', 'CONJ'), ('on', 'ADP'), ('tablets', 'NOUN'), ('since', 'ADP'), ('2013', 'NUM'), ('.', '.'), ('Google', 'NOUN'), ('and', 'CONJ'), ('Twitter', 'NOUN'), ('made', 'VERB'), ('a', 'DET'), ('deal', 'NOUN'), ('in', 'ADP'), ('2015', 'NUM'), ('that', 'ADP'), ('gave', 'VERB'), ('Google', 'NOUN'), ('access', 'NOUN'), ('to', 'PRT'), ('Twitter', 'NOUN'), (\"'s\", 'PRT'), ('firehose', 'NOUN'), ('.', '.'), ('Twitter', 'NOUN'), ('is', 'VERB'), ('an', 'DET'), ('online', 'NOUN'), ('news', 'NOUN'), ('and', 'CONJ'), ('social', 'ADJ'), ('networking', 'NOUN'), ('service', 'NOUN'), ('on', 'ADP'), ('which', 'DET'), ('users', 'NOUN'), ('post', 'NOUN'), ('and', 'CONJ'), ('interact', 'NOUN'), ('with', 'ADP'), ('messages', 'VERB'), ('known', 'VERB'), ('as', 'ADP'), ('tweets', 'NOUN'), ('.', '.'), ('Before', 'ADP'), ('entering', 'VERB'), ('politics', 'NOUN'), (',', '.'), ('Donald', 'NOUN'), ('Trump', 'NOUN'), ('was', 'VERB'), ('a', 'DET'), ('domineering', 'VERB'), ('businessman', 'NOUN'), ('and', 'CONJ'), ('a', 'DET'), ('television', 'NOUN'), ('personality', 'NOUN'), ('.', '.'), ('The', 'DET'), ('2018', 'NUM'), ('FIFA', 'NOUN'), ('World', 'NOUN'), ('Cup', 'NOUN'), ('is', 'VERB'), ('the', 'DET'), ('21st', 'NUM'), ('FIFA', 'NOUN'), ('World', 'NOUN'), ('Cup', 'NOUN'), (',', '.'), ('an', 'DET'), ('international', 'ADJ'), ('football', 'NOUN'), ('tournament', 'NOUN'), ('contested', 'VERB'), ('once', 'ADV'), ('every', 'DET'), ('four', 'NUM'), ('years', 'NOUN'), ('.', '.'), ('This', 'DET'), ('is', 'VERB'), ('the', 'DET'), ('first', 'ADJ'), ('World', 'NOUN'), ('Cup', 'NOUN'), ('to', 'PRT'), ('be', 'VERB'), ('held', 'VERB'), ('in', 'ADP'), ('Eastern', 'NOUN'), ('Europe', 'NOUN'), ('and', 'CONJ'), ('the', 'DET'), ('11th', 'ADJ'), ('time', 'NOUN'), ('that', 'ADP'), ('it', 'PRON'), ('has', 'VERB'), ('been', 'VERB'), ('held', 'VERB'), ('in', 'ADP'), ('Europe', 'NOUN'), ('.', '.'), ('Show', 'NOUN'), ('me', 'PRON'), ('the', 'DET'), ('cheapest', 'ADJ'), ('round', 'NOUN'), ('trips', 'NOUN'), ('from', 'ADP'), ('Dallas', 'NOUN'), ('to', 'PRT'), ('Atlanta', 'NOUN'), ('I', 'PRON'), ('would', 'VERB'), ('like', 'ADP'), ('to', 'PRT'), ('see', 'VERB'), ('flights', 'NOUN'), ('from', 'ADP'), ('Denver', 'NOUN'), ('to', 'PRT'), ('Philadelphia', 'NOUN'), ('.', '.'), ('Show', 'NOUN'), ('me', 'PRON'), ('the', 'DET'), ('price', 'NOUN'), ('of', 'ADP'), ('the', 'DET'), ('flights', 'NOUN'), ('leaving', 'VERB'), ('Atlanta', 'NOUN'), ('at', 'ADP'), ('about', 'ADP'), ('3', 'NUM'), ('in', 'ADP'), ('the', 'DET'), ('afternoon', 'NOUN'), ('and', 'CONJ'), ('arriving', 'VERB'), ('in', 'ADP'), ('San', 'NOUN'), ('Francisco', 'NOUN'), ('.', '.'), ('NASA', 'NOUN'), ('invited', 'VERB'), ('social', 'ADJ'), ('media', 'NOUN'), ('users', 'NOUN'), ('to', 'PRT'), ('experience', 'NOUN'), ('the', 'DET'), ('launch', 'NOUN'), ('of', 'ADP'), ('ICESAT-2', 'NOUN'), ('Satellite', 'NOUN'), ('.', '.')]\n",
      "36.87915587425232\n"
     ]
    }
   ],
   "source": [
    "sentence_test = open('Test_sentences.txt',mode='r').read()\n",
    "words = word_tokenize(sentence_test)\n",
    "\n",
    "start = time.time()\n",
    "tagged_seq = modified_Viterbi_lexicon_based(words)\n",
    "end = time.time()\n",
    "difference = end-start\n",
    "\n",
    "print(tagged_seq)\n",
    "print(difference)\n",
    "lexicon_test_tagged_seq = tagged_seq"
   ]
  },
  {
   "cell_type": "markdown",
   "metadata": {},
   "source": [
    "### Compare the tagging accuracies of the modifications with the vanilla Viterbi algorithm"
   ]
  },
  {
   "cell_type": "code",
   "execution_count": 269,
   "metadata": {},
   "outputs": [
    {
     "name": "stdout",
     "output_type": "stream",
     "text": [
      "Vannila Viterbi Accuracy: 0.9144385026737968\n",
      "Lexicon Based Viterbi Accuracy: 0.946524064171123\n",
      "Rule Based Viterbi Accuracy: 0.946524064171123\n"
     ]
    }
   ],
   "source": [
    "print(\"Vannila Viterbi Accuracy: \"+ str(vannila_viterbi_accuracy))\n",
    "print(\"Lexicon Based Viterbi Accuracy: \"+ str(lexicon_based_viterbi_accuracy))\n",
    "print(\"Rule Based Viterbi Accuracy: \"+ str(rulebased_modified_viterbi_accuracy))"
   ]
  },
  {
   "cell_type": "markdown",
   "metadata": {},
   "source": [
    "##### Lexicon Based Viterbi & Rule Based Viterbi 's accuracy are greater than Plain Vannila Viterbi's accuracy"
   ]
  },
  {
   "cell_type": "markdown",
   "metadata": {},
   "source": [
    "### List down cases which were incorrectly tagged by original POS tagger and got corrected by your modifications"
   ]
  },
  {
   "cell_type": "markdown",
   "metadata": {},
   "source": [
    "* Words like 'Twitter', 'Android', 'Google' are properly tagged with 'NOUN' in modified Viterbi Algorithm\n",
    "* Words like 'NASA', 'FIFA' are correctly tagged as 'NOUN' (All Caps of a word generally will be an abbrevation and it is a noun)\n",
    "* Words ending with '-ing' like 'arriving' and words ending with '-ed' like 'invited' are properly tagged as 'VERB' in Rule Based Tagging\n",
    "* Words with integers or float are properly tagged as 'NUM' are properly tagged as NUM in rule based tagger\n",
    "* In Lexicon tagger, words are tagged as 'NOUN' by default in the default tagger if any of the taggers cannot able to tag them. And it corrects most of the unknown words like 'Google', 'Android', 'Twitter' etc."
   ]
  }
 ],
 "metadata": {
  "kernelspec": {
   "display_name": "Python 3",
   "language": "python",
   "name": "python3"
  },
  "language_info": {
   "codemirror_mode": {
    "name": "ipython",
    "version": 3
   },
   "file_extension": ".py",
   "mimetype": "text/x-python",
   "name": "python",
   "nbconvert_exporter": "python",
   "pygments_lexer": "ipython3",
   "version": "3.6.8"
  }
 },
 "nbformat": 4,
 "nbformat_minor": 2
}
